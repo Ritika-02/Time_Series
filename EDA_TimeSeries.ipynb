{
 "cells": [
  {
   "cell_type": "markdown",
   "id": "4cda5129",
   "metadata": {},
   "source": [
    "# EDA\n",
    "\n",
    "- panda data reader\n",
    "- date time index\n",
    "- time resampling\n",
    "- time shifts\n",
    "- mean rolling and expanding\n",
    "- time series visualization\n",
    "- one sample project on time series"
   ]
  },
  {
   "cell_type": "markdown",
   "id": "cdc6abf9",
   "metadata": {},
   "source": [
    "## Pandas Data reader\n"
   ]
  },
  {
   "cell_type": "code",
   "execution_count": 2,
   "id": "57bd95bf",
   "metadata": {
    "scrolled": true
   },
   "outputs": [
    {
     "name": "stdout",
     "output_type": "stream",
     "text": [
      "Collecting pandas-datareader\n",
      "  Downloading pandas_datareader-0.10.0-py3-none-any.whl (109 kB)\n",
      "                                              0.0/109.5 kB ? eta -:--:--\n",
      "     ---                                      10.2/109.5 kB ? eta -:--:--\n",
      "     ---                                      10.2/109.5 kB ? eta -:--:--\n",
      "     ---                                      10.2/109.5 kB ? eta -:--:--\n",
      "     ------------------------              71.7/109.5 kB 359.3 kB/s eta 0:00:01\n",
      "     ------------------------              71.7/109.5 kB 359.3 kB/s eta 0:00:01\n",
      "     ------------------------              71.7/109.5 kB 359.3 kB/s eta 0:00:01\n",
      "     ------------------------------------ 109.5/109.5 kB 318.0 kB/s eta 0:00:00\n",
      "Requirement already satisfied: lxml in c:\\users\\dell\\anaconda3\\lib\\site-packages (from pandas-datareader) (4.9.2)\n",
      "Requirement already satisfied: pandas>=0.23 in c:\\users\\dell\\anaconda3\\lib\\site-packages (from pandas-datareader) (1.5.3)\n",
      "Requirement already satisfied: requests>=2.19.0 in c:\\users\\dell\\anaconda3\\lib\\site-packages (from pandas-datareader) (2.29.0)\n",
      "Requirement already satisfied: python-dateutil>=2.8.1 in c:\\users\\dell\\anaconda3\\lib\\site-packages (from pandas>=0.23->pandas-datareader) (2.8.2)\n",
      "Requirement already satisfied: pytz>=2020.1 in c:\\users\\dell\\anaconda3\\lib\\site-packages (from pandas>=0.23->pandas-datareader) (2022.7)\n",
      "Requirement already satisfied: numpy>=1.21.0 in c:\\users\\dell\\anaconda3\\lib\\site-packages (from pandas>=0.23->pandas-datareader) (1.26.4)\n",
      "Requirement already satisfied: charset-normalizer<4,>=2 in c:\\users\\dell\\anaconda3\\lib\\site-packages (from requests>=2.19.0->pandas-datareader) (2.0.4)\n",
      "Requirement already satisfied: idna<4,>=2.5 in c:\\users\\dell\\anaconda3\\lib\\site-packages (from requests>=2.19.0->pandas-datareader) (2.10)\n",
      "Requirement already satisfied: urllib3<1.27,>=1.21.1 in c:\\users\\dell\\anaconda3\\lib\\site-packages (from requests>=2.19.0->pandas-datareader) (1.26.16)\n",
      "Requirement already satisfied: certifi>=2017.4.17 in c:\\users\\dell\\anaconda3\\lib\\site-packages (from requests>=2.19.0->pandas-datareader) (2023.5.7)\n",
      "Requirement already satisfied: six>=1.5 in c:\\users\\dell\\anaconda3\\lib\\site-packages (from python-dateutil>=2.8.1->pandas>=0.23->pandas-datareader) (1.16.0)\n",
      "Installing collected packages: pandas-datareader\n",
      "Successfully installed pandas-datareader-0.10.0\n"
     ]
    }
   ],
   "source": [
    "# installing pandas data reader\n",
    "!pip install pandas-datareader"
   ]
  },
  {
   "cell_type": "code",
   "execution_count": 8,
   "id": "52c49423",
   "metadata": {},
   "outputs": [
    {
     "name": "stdout",
     "output_type": "stream",
     "text": [
      "Requirement already satisfied: pandas_datareader in c:\\users\\dell\\anaconda3\\lib\\site-packages (0.10.0)\n",
      "Requirement already satisfied: lxml in c:\\users\\dell\\anaconda3\\lib\\site-packages (from pandas_datareader) (4.9.2)\n",
      "Requirement already satisfied: pandas>=0.23 in c:\\users\\dell\\anaconda3\\lib\\site-packages (from pandas_datareader) (1.5.3)\n",
      "Requirement already satisfied: requests>=2.19.0 in c:\\users\\dell\\anaconda3\\lib\\site-packages (from pandas_datareader) (2.29.0)\n",
      "Requirement already satisfied: python-dateutil>=2.8.1 in c:\\users\\dell\\anaconda3\\lib\\site-packages (from pandas>=0.23->pandas_datareader) (2.8.2)\n",
      "Requirement already satisfied: pytz>=2020.1 in c:\\users\\dell\\anaconda3\\lib\\site-packages (from pandas>=0.23->pandas_datareader) (2022.7)\n",
      "Requirement already satisfied: numpy>=1.21.0 in c:\\users\\dell\\anaconda3\\lib\\site-packages (from pandas>=0.23->pandas_datareader) (1.26.4)\n",
      "Requirement already satisfied: charset-normalizer<4,>=2 in c:\\users\\dell\\anaconda3\\lib\\site-packages (from requests>=2.19.0->pandas_datareader) (2.0.4)\n",
      "Requirement already satisfied: idna<4,>=2.5 in c:\\users\\dell\\anaconda3\\lib\\site-packages (from requests>=2.19.0->pandas_datareader) (2.10)\n",
      "Requirement already satisfied: urllib3<1.27,>=1.21.1 in c:\\users\\dell\\anaconda3\\lib\\site-packages (from requests>=2.19.0->pandas_datareader) (1.26.16)\n",
      "Requirement already satisfied: certifi>=2017.4.17 in c:\\users\\dell\\anaconda3\\lib\\site-packages (from requests>=2.19.0->pandas_datareader) (2023.5.7)\n",
      "Requirement already satisfied: six>=1.5 in c:\\users\\dell\\anaconda3\\lib\\site-packages (from python-dateutil>=2.8.1->pandas>=0.23->pandas_datareader) (1.16.0)\n"
     ]
    }
   ],
   "source": [
    "!pip install --upgrade pandas_datareader"
   ]
  },
  {
   "cell_type": "code",
   "execution_count": 9,
   "id": "c29bade8",
   "metadata": {},
   "outputs": [
    {
     "name": "stdout",
     "output_type": "stream",
     "text": [
      "Collecting yfinance\n",
      "  Downloading yfinance-0.2.36-py2.py3-none-any.whl (72 kB)\n",
      "                                              0.0/72.4 kB ? eta -:--:--\n",
      "     ----------------                         30.7/72.4 kB ? eta -:--:--\n",
      "     ----------------                         30.7/72.4 kB ? eta -:--:--\n",
      "     -------------------------------------- 72.4/72.4 kB 497.3 kB/s eta 0:00:00\n",
      "Requirement already satisfied: pandas>=1.3.0 in c:\\users\\dell\\anaconda3\\lib\\site-packages (from yfinance) (1.5.3)\n",
      "Requirement already satisfied: numpy>=1.16.5 in c:\\users\\dell\\anaconda3\\lib\\site-packages (from yfinance) (1.26.4)\n",
      "Collecting requests>=2.31 (from yfinance)\n",
      "  Using cached requests-2.31.0-py3-none-any.whl (62 kB)\n",
      "Collecting multitasking>=0.0.7 (from yfinance)\n",
      "  Downloading multitasking-0.0.11-py3-none-any.whl (8.5 kB)\n",
      "Requirement already satisfied: lxml>=4.9.1 in c:\\users\\dell\\anaconda3\\lib\\site-packages (from yfinance) (4.9.2)\n",
      "Requirement already satisfied: appdirs>=1.4.4 in c:\\users\\dell\\anaconda3\\lib\\site-packages (from yfinance) (1.4.4)\n",
      "Requirement already satisfied: pytz>=2022.5 in c:\\users\\dell\\anaconda3\\lib\\site-packages (from yfinance) (2022.7)\n",
      "Collecting frozendict>=2.3.4 (from yfinance)\n",
      "  Downloading frozendict-2.4.0.tar.gz (314 kB)\n",
      "                                              0.0/314.6 kB ? eta -:--:--\n",
      "     -------                                 61.4/314.6 kB 3.4 MB/s eta 0:00:01\n",
      "     -------                                 61.4/314.6 kB 3.4 MB/s eta 0:00:01\n",
      "     -------------------                    163.8/314.6 kB 1.2 MB/s eta 0:00:01\n",
      "     -----------------------                194.6/314.6 kB 1.1 MB/s eta 0:00:01\n",
      "     -----------------------                194.6/314.6 kB 1.1 MB/s eta 0:00:01\n",
      "     ----------------------------         245.8/314.6 kB 942.1 kB/s eta 0:00:01\n",
      "     ------------------------------------ 314.6/314.6 kB 975.4 kB/s eta 0:00:00\n",
      "  Installing build dependencies: started\n",
      "  Installing build dependencies: finished with status 'done'\n",
      "  Getting requirements to build wheel: started\n",
      "  Getting requirements to build wheel: finished with status 'done'\n",
      "  Preparing metadata (pyproject.toml): started\n",
      "  Preparing metadata (pyproject.toml): finished with status 'done'\n",
      "Collecting peewee>=3.16.2 (from yfinance)\n",
      "  Downloading peewee-3.17.1.tar.gz (3.0 MB)\n",
      "                                              0.0/3.0 MB ? eta -:--:--\n",
      "                                              0.0/3.0 MB ? eta -:--:--\n",
      "     -                                        0.1/3.0 MB 1.3 MB/s eta 0:00:03\n",
      "     -                                        0.1/3.0 MB 1.3 MB/s eta 0:00:03\n",
      "     -                                        0.1/3.0 MB 1.3 MB/s eta 0:00:03\n",
      "     -                                        0.1/3.0 MB 1.3 MB/s eta 0:00:03\n",
      "     ---                                      0.2/3.0 MB 958.6 kB/s eta 0:00:03\n",
      "     ---                                      0.3/3.0 MB 944.1 kB/s eta 0:00:03\n",
      "     ----                                     0.3/3.0 MB 863.3 kB/s eta 0:00:04\n",
      "     ----                                     0.3/3.0 MB 853.3 kB/s eta 0:00:04\n",
      "     -----                                    0.4/3.0 MB 930.9 kB/s eta 0:00:03\n",
      "     -----                                    0.4/3.0 MB 917.0 kB/s eta 0:00:03\n",
      "     -----                                    0.4/3.0 MB 917.0 kB/s eta 0:00:03\n",
      "     -----                                    0.4/3.0 MB 917.0 kB/s eta 0:00:03\n",
      "     ------                                   0.5/3.0 MB 827.5 kB/s eta 0:00:03\n",
      "     -------                                  0.5/3.0 MB 814.7 kB/s eta 0:00:03\n",
      "     --------                                 0.6/3.0 MB 840.3 kB/s eta 0:00:03\n",
      "     --------                                 0.6/3.0 MB 811.9 kB/s eta 0:00:03\n",
      "     ---------                                0.7/3.0 MB 815.2 kB/s eta 0:00:03\n",
      "     ---------                                0.7/3.0 MB 827.6 kB/s eta 0:00:03\n",
      "     ----------                               0.8/3.0 MB 862.0 kB/s eta 0:00:03\n",
      "     ----------                               0.8/3.0 MB 862.0 kB/s eta 0:00:03\n",
      "     -----------                              0.8/3.0 MB 826.5 kB/s eta 0:00:03\n",
      "     ------------                             0.9/3.0 MB 828.4 kB/s eta 0:00:03\n",
      "     -------------                            1.0/3.0 MB 892.1 kB/s eta 0:00:03\n",
      "     -------------                            1.0/3.0 MB 892.0 kB/s eta 0:00:03\n",
      "     --------------                           1.1/3.0 MB 896.4 kB/s eta 0:00:03\n",
      "     ---------------                          1.1/3.0 MB 892.9 kB/s eta 0:00:03\n",
      "     ---------------                          1.1/3.0 MB 892.9 kB/s eta 0:00:03\n",
      "     ---------------                          1.1/3.0 MB 892.9 kB/s eta 0:00:03\n",
      "     ----------------                         1.2/3.0 MB 856.4 kB/s eta 0:00:03\n",
      "     -----------------                        1.3/3.0 MB 911.5 kB/s eta 0:00:02\n",
      "     ------------------                       1.4/3.0 MB 917.1 kB/s eta 0:00:02\n",
      "     -------------------                      1.4/3.0 MB 920.1 kB/s eta 0:00:02\n",
      "     -------------------                      1.4/3.0 MB 920.1 kB/s eta 0:00:02\n",
      "     --------------------                     1.5/3.0 MB 928.6 kB/s eta 0:00:02\n",
      "     ---------------------                    1.6/3.0 MB 933.2 kB/s eta 0:00:02\n",
      "     ---------------------                    1.6/3.0 MB 933.2 kB/s eta 0:00:02\n",
      "     ---------------------                    1.6/3.0 MB 933.2 kB/s eta 0:00:02\n",
      "     ----------------------                   1.6/3.0 MB 900.3 kB/s eta 0:00:02\n",
      "     -----------------------                  1.7/3.0 MB 924.9 kB/s eta 0:00:02\n",
      "     ------------------------                 1.8/3.0 MB 923.6 kB/s eta 0:00:02\n",
      "     ------------------------                 1.8/3.0 MB 923.6 kB/s eta 0:00:02\n",
      "     ------------------------                 1.8/3.0 MB 915.3 kB/s eta 0:00:02\n",
      "     -------------------------                1.9/3.0 MB 917.2 kB/s eta 0:00:02\n",
      "     --------------------------               1.9/3.0 MB 919.4 kB/s eta 0:00:02\n",
      "     --------------------------               1.9/3.0 MB 919.4 kB/s eta 0:00:02\n",
      "     --------------------------               1.9/3.0 MB 919.4 kB/s eta 0:00:02\n",
      "     ---------------------------              2.0/3.0 MB 913.7 kB/s eta 0:00:02\n",
      "     ----------------------------             2.1/3.0 MB 901.9 kB/s eta 0:00:01\n",
      "     ----------------------------             2.1/3.0 MB 905.7 kB/s eta 0:00:01\n",
      "     -----------------------------            2.2/3.0 MB 901.9 kB/s eta 0:00:01\n",
      "     -----------------------------            2.2/3.0 MB 901.9 kB/s eta 0:00:01\n",
      "     ------------------------------           2.2/3.0 MB 905.5 kB/s eta 0:00:01\n",
      "     ------------------------------           2.2/3.0 MB 905.5 kB/s eta 0:00:01\n",
      "     ------------------------------           2.2/3.0 MB 905.5 kB/s eta 0:00:01\n",
      "     -------------------------------          2.3/3.0 MB 868.5 kB/s eta 0:00:01\n",
      "     -------------------------------          2.3/3.0 MB 857.1 kB/s eta 0:00:01\n",
      "     --------------------------------         2.4/3.0 MB 893.7 kB/s eta 0:00:01\n",
      "     ---------------------------------        2.5/3.0 MB 897.4 kB/s eta 0:00:01\n",
      "     ---------------------------------        2.5/3.0 MB 888.2 kB/s eta 0:00:01\n",
      "     ----------------------------------       2.6/3.0 MB 886.9 kB/s eta 0:00:01\n",
      "     ----------------------------------       2.6/3.0 MB 886.9 kB/s eta 0:00:01\n",
      "     ----------------------------------       2.6/3.0 MB 886.9 kB/s eta 0:00:01\n",
      "     -----------------------------------      2.6/3.0 MB 870.4 kB/s eta 0:00:01\n",
      "     -----------------------------------      2.6/3.0 MB 860.3 kB/s eta 0:00:01\n",
      "     -----------------------------------      2.7/3.0 MB 849.5 kB/s eta 0:00:01\n",
      "     ------------------------------------     2.7/3.0 MB 839.3 kB/s eta 0:00:01\n",
      "     ------------------------------------     2.7/3.0 MB 839.3 kB/s eta 0:00:01\n",
      "     ------------------------------------     2.7/3.0 MB 832.5 kB/s eta 0:00:01\n",
      "     -------------------------------------    2.7/3.0 MB 826.2 kB/s eta 0:00:01\n",
      "     -------------------------------------    2.7/3.0 MB 826.2 kB/s eta 0:00:01\n",
      "     -------------------------------------    2.7/3.0 MB 826.2 kB/s eta 0:00:01\n",
      "     --------------------------------------   2.8/3.0 MB 819.9 kB/s eta 0:00:01\n",
      "     --------------------------------------   2.8/3.0 MB 813.9 kB/s eta 0:00:01\n",
      "     --------------------------------------   2.9/3.0 MB 811.8 kB/s eta 0:00:01\n",
      "     ---------------------------------------  2.9/3.0 MB 809.2 kB/s eta 0:00:01\n",
      "     ---------------------------------------  2.9/3.0 MB 807.2 kB/s eta 0:00:01\n",
      "     ---------------------------------------- 3.0/3.0 MB 797.6 kB/s eta 0:00:00\n",
      "  Installing build dependencies: started\n",
      "  Installing build dependencies: finished with status 'done'\n",
      "  Getting requirements to build wheel: started\n",
      "  Getting requirements to build wheel: finished with status 'done'\n",
      "  Preparing metadata (pyproject.toml): started\n",
      "  Preparing metadata (pyproject.toml): finished with status 'done'\n",
      "Requirement already satisfied: beautifulsoup4>=4.11.1 in c:\\users\\dell\\anaconda3\\lib\\site-packages (from yfinance) (4.12.2)\n",
      "Collecting html5lib>=1.1 (from yfinance)\n",
      "  Downloading html5lib-1.1-py2.py3-none-any.whl (112 kB)\n",
      "                                              0.0/112.2 kB ? eta -:--:--\n",
      "     ----------------                      51.2/112.2 kB 871.5 kB/s eta 0:00:01\n",
      "     --------------------------------        92.2/112.2 kB 1.3 MB/s eta 0:00:01\n",
      "     ------------------------------------ 112.2/112.2 kB 926.7 kB/s eta 0:00:00\n",
      "Requirement already satisfied: soupsieve>1.2 in c:\\users\\dell\\anaconda3\\lib\\site-packages (from beautifulsoup4>=4.11.1->yfinance) (2.4)\n",
      "Requirement already satisfied: six>=1.9 in c:\\users\\dell\\anaconda3\\lib\\site-packages (from html5lib>=1.1->yfinance) (1.16.0)\n",
      "Requirement already satisfied: webencodings in c:\\users\\dell\\anaconda3\\lib\\site-packages (from html5lib>=1.1->yfinance) (0.5.1)\n",
      "Requirement already satisfied: python-dateutil>=2.8.1 in c:\\users\\dell\\anaconda3\\lib\\site-packages (from pandas>=1.3.0->yfinance) (2.8.2)\n",
      "Requirement already satisfied: charset-normalizer<4,>=2 in c:\\users\\dell\\anaconda3\\lib\\site-packages (from requests>=2.31->yfinance) (2.0.4)\n",
      "Requirement already satisfied: idna<4,>=2.5 in c:\\users\\dell\\anaconda3\\lib\\site-packages (from requests>=2.31->yfinance) (2.10)\n",
      "Requirement already satisfied: urllib3<3,>=1.21.1 in c:\\users\\dell\\anaconda3\\lib\\site-packages (from requests>=2.31->yfinance) (1.26.16)\n",
      "Requirement already satisfied: certifi>=2017.4.17 in c:\\users\\dell\\anaconda3\\lib\\site-packages (from requests>=2.31->yfinance) (2023.5.7)\n",
      "Building wheels for collected packages: frozendict, peewee\n",
      "  Building wheel for frozendict (pyproject.toml): started\n",
      "  Building wheel for frozendict (pyproject.toml): finished with status 'done'\n",
      "  Created wheel for frozendict: filename=frozendict-2.4.0-py3-none-any.whl size=15471 sha256=80ade8729f12aecbee02637483f49566feddb77fd5bec0d93f010ec4352e64c1\n",
      "  Stored in directory: c:\\users\\dell\\appdata\\local\\pip\\cache\\wheels\\31\\dd\\81\\a814e6f8cde8a1bbc1f088fdc273943371f10478b91a605e14\n",
      "  Building wheel for peewee (pyproject.toml): started\n",
      "  Building wheel for peewee (pyproject.toml): finished with status 'done'\n",
      "  Created wheel for peewee: filename=peewee-3.17.1-py3-none-any.whl size=136948 sha256=6f1b7482f346d5ae5b02606f61ef9bbda6aa54048f4c6ec581154eabe76043a2\n",
      "  Stored in directory: c:\\users\\dell\\appdata\\local\\pip\\cache\\wheels\\33\\d2\\ca\\79b9807826bc7ef0b86a1ee28c372daaf073f9aa8756eedd7f\n",
      "Successfully built frozendict peewee\n",
      "Installing collected packages: peewee, multitasking, requests, html5lib, frozendict, yfinance\n",
      "  Attempting uninstall: requests\n",
      "    Found existing installation: requests 2.29.0\n",
      "    Uninstalling requests-2.29.0:\n",
      "      Successfully uninstalled requests-2.29.0\n",
      "Successfully installed frozendict-2.4.0 html5lib-1.1 multitasking-0.0.11 peewee-3.17.1 requests-2.31.0 yfinance-0.2.36\n"
     ]
    },
    {
     "name": "stderr",
     "output_type": "stream",
     "text": [
      "ERROR: pip's dependency resolver does not currently take into account all the packages that are installed. This behaviour is the source of the following dependency conflicts.\n",
      "conda-repo-cli 1.0.41 requires requests_mock, which is not installed.\n",
      "transformers 2.1.1 requires sentencepiece, which is not installed.\n",
      "conda-repo-cli 1.0.41 requires clyent==1.2.1, but you have clyent 1.2.2 which is incompatible.\n",
      "conda-repo-cli 1.0.41 requires nbformat==5.4.0, but you have nbformat 5.7.0 which is incompatible.\n",
      "conda-repo-cli 1.0.41 requires requests==2.28.1, but you have requests 2.31.0 which is incompatible.\n"
     ]
    }
   ],
   "source": [
    "!pip install yfinance"
   ]
  },
  {
   "cell_type": "code",
   "execution_count": null,
   "id": "15f509db",
   "metadata": {},
   "outputs": [],
   "source": []
  },
  {
   "cell_type": "code",
   "execution_count": null,
   "id": "8177a075",
   "metadata": {},
   "outputs": [],
   "source": []
  },
  {
   "cell_type": "code",
   "execution_count": null,
   "id": "204e8ff4",
   "metadata": {},
   "outputs": [],
   "source": []
  },
  {
   "cell_type": "code",
   "execution_count": 16,
   "id": "3f09f06e",
   "metadata": {},
   "outputs": [
    {
     "name": "stderr",
     "output_type": "stream",
     "text": [
      "C:\\Users\\dell\\anaconda3\\Lib\\site-packages\\yfinance\\base.py:48: FutureWarning: The default dtype for empty Series will be 'object' instead of 'float64' in a future version. Specify a dtype explicitly to silence this warning.\n",
      "  _empty_series = pd.Series()\n"
     ]
    }
   ],
   "source": [
    "import pandas_datareader as pdr\n",
    "import pandas as pd\n",
    "from datetime import datetime\n",
    "import yfinance as yf"
   ]
  },
  {
   "cell_type": "code",
   "execution_count": 17,
   "id": "53cb15fe",
   "metadata": {},
   "outputs": [
    {
     "name": "stderr",
     "output_type": "stream",
     "text": [
      "[*********************100%%**********************]  1 of 1 completed\n"
     ]
    }
   ],
   "source": [
    "data = yf.download('TSLA', start=\"2020-02-18\", end=\"2024-02-18\")"
   ]
  },
  {
   "cell_type": "code",
   "execution_count": 18,
   "id": "fb217182",
   "metadata": {},
   "outputs": [
    {
     "data": {
      "text/html": [
       "<div>\n",
       "<style scoped>\n",
       "    .dataframe tbody tr th:only-of-type {\n",
       "        vertical-align: middle;\n",
       "    }\n",
       "\n",
       "    .dataframe tbody tr th {\n",
       "        vertical-align: top;\n",
       "    }\n",
       "\n",
       "    .dataframe thead th {\n",
       "        text-align: right;\n",
       "    }\n",
       "</style>\n",
       "<table border=\"1\" class=\"dataframe\">\n",
       "  <thead>\n",
       "    <tr style=\"text-align: right;\">\n",
       "      <th></th>\n",
       "      <th>Open</th>\n",
       "      <th>High</th>\n",
       "      <th>Low</th>\n",
       "      <th>Close</th>\n",
       "      <th>Adj Close</th>\n",
       "      <th>Volume</th>\n",
       "    </tr>\n",
       "    <tr>\n",
       "      <th>Date</th>\n",
       "      <th></th>\n",
       "      <th></th>\n",
       "      <th></th>\n",
       "      <th></th>\n",
       "      <th></th>\n",
       "      <th></th>\n",
       "    </tr>\n",
       "  </thead>\n",
       "  <tbody>\n",
       "    <tr>\n",
       "      <th>2020-02-18</th>\n",
       "      <td>56.106667</td>\n",
       "      <td>57.333332</td>\n",
       "      <td>55.490665</td>\n",
       "      <td>57.226665</td>\n",
       "      <td>57.226665</td>\n",
       "      <td>245725500</td>\n",
       "    </tr>\n",
       "    <tr>\n",
       "      <th>2020-02-19</th>\n",
       "      <td>61.566666</td>\n",
       "      <td>62.985332</td>\n",
       "      <td>60.068001</td>\n",
       "      <td>61.161331</td>\n",
       "      <td>61.161331</td>\n",
       "      <td>381345000</td>\n",
       "    </tr>\n",
       "    <tr>\n",
       "      <th>2020-02-20</th>\n",
       "      <td>60.796665</td>\n",
       "      <td>60.799999</td>\n",
       "      <td>57.329334</td>\n",
       "      <td>59.960667</td>\n",
       "      <td>59.960667</td>\n",
       "      <td>264523500</td>\n",
       "    </tr>\n",
       "    <tr>\n",
       "      <th>2020-02-21</th>\n",
       "      <td>60.465332</td>\n",
       "      <td>60.870667</td>\n",
       "      <td>58.696667</td>\n",
       "      <td>60.066666</td>\n",
       "      <td>60.066666</td>\n",
       "      <td>214722000</td>\n",
       "    </tr>\n",
       "    <tr>\n",
       "      <th>2020-02-24</th>\n",
       "      <td>55.933334</td>\n",
       "      <td>57.566666</td>\n",
       "      <td>54.813332</td>\n",
       "      <td>55.585999</td>\n",
       "      <td>55.585999</td>\n",
       "      <td>227883000</td>\n",
       "    </tr>\n",
       "    <tr>\n",
       "      <th>...</th>\n",
       "      <td>...</td>\n",
       "      <td>...</td>\n",
       "      <td>...</td>\n",
       "      <td>...</td>\n",
       "      <td>...</td>\n",
       "      <td>...</td>\n",
       "    </tr>\n",
       "    <tr>\n",
       "      <th>2024-02-12</th>\n",
       "      <td>192.110001</td>\n",
       "      <td>194.729996</td>\n",
       "      <td>187.279999</td>\n",
       "      <td>188.130005</td>\n",
       "      <td>188.130005</td>\n",
       "      <td>95498600</td>\n",
       "    </tr>\n",
       "    <tr>\n",
       "      <th>2024-02-13</th>\n",
       "      <td>183.990005</td>\n",
       "      <td>187.259995</td>\n",
       "      <td>182.110001</td>\n",
       "      <td>184.020004</td>\n",
       "      <td>184.020004</td>\n",
       "      <td>86759500</td>\n",
       "    </tr>\n",
       "    <tr>\n",
       "      <th>2024-02-14</th>\n",
       "      <td>185.300003</td>\n",
       "      <td>188.889999</td>\n",
       "      <td>183.350006</td>\n",
       "      <td>188.710007</td>\n",
       "      <td>188.710007</td>\n",
       "      <td>81203000</td>\n",
       "    </tr>\n",
       "    <tr>\n",
       "      <th>2024-02-15</th>\n",
       "      <td>189.160004</td>\n",
       "      <td>200.880005</td>\n",
       "      <td>188.860001</td>\n",
       "      <td>200.449997</td>\n",
       "      <td>200.449997</td>\n",
       "      <td>120831800</td>\n",
       "    </tr>\n",
       "    <tr>\n",
       "      <th>2024-02-16</th>\n",
       "      <td>202.059998</td>\n",
       "      <td>203.169998</td>\n",
       "      <td>197.399994</td>\n",
       "      <td>199.949997</td>\n",
       "      <td>199.949997</td>\n",
       "      <td>111173600</td>\n",
       "    </tr>\n",
       "  </tbody>\n",
       "</table>\n",
       "<p>1008 rows × 6 columns</p>\n",
       "</div>"
      ],
      "text/plain": [
       "                  Open        High         Low       Close   Adj Close  \\\n",
       "Date                                                                     \n",
       "2020-02-18   56.106667   57.333332   55.490665   57.226665   57.226665   \n",
       "2020-02-19   61.566666   62.985332   60.068001   61.161331   61.161331   \n",
       "2020-02-20   60.796665   60.799999   57.329334   59.960667   59.960667   \n",
       "2020-02-21   60.465332   60.870667   58.696667   60.066666   60.066666   \n",
       "2020-02-24   55.933334   57.566666   54.813332   55.585999   55.585999   \n",
       "...                ...         ...         ...         ...         ...   \n",
       "2024-02-12  192.110001  194.729996  187.279999  188.130005  188.130005   \n",
       "2024-02-13  183.990005  187.259995  182.110001  184.020004  184.020004   \n",
       "2024-02-14  185.300003  188.889999  183.350006  188.710007  188.710007   \n",
       "2024-02-15  189.160004  200.880005  188.860001  200.449997  200.449997   \n",
       "2024-02-16  202.059998  203.169998  197.399994  199.949997  199.949997   \n",
       "\n",
       "               Volume  \n",
       "Date                   \n",
       "2020-02-18  245725500  \n",
       "2020-02-19  381345000  \n",
       "2020-02-20  264523500  \n",
       "2020-02-21  214722000  \n",
       "2020-02-24  227883000  \n",
       "...               ...  \n",
       "2024-02-12   95498600  \n",
       "2024-02-13   86759500  \n",
       "2024-02-14   81203000  \n",
       "2024-02-15  120831800  \n",
       "2024-02-16  111173600  \n",
       "\n",
       "[1008 rows x 6 columns]"
      ]
     },
     "execution_count": 18,
     "metadata": {},
     "output_type": "execute_result"
    }
   ],
   "source": [
    "data"
   ]
  },
  {
   "cell_type": "code",
   "execution_count": 19,
   "id": "c39541a8",
   "metadata": {},
   "outputs": [
    {
     "data": {
      "text/plain": [
       "pandas.core.frame.DataFrame"
      ]
     },
     "execution_count": 19,
     "metadata": {},
     "output_type": "execute_result"
    }
   ],
   "source": [
    "type(data)"
   ]
  },
  {
   "cell_type": "code",
   "execution_count": 22,
   "id": "47d055d3",
   "metadata": {},
   "outputs": [
    {
     "data": {
      "text/plain": [
       "<Axes: xlabel='Date'>"
      ]
     },
     "execution_count": 22,
     "metadata": {},
     "output_type": "execute_result"
    },
    {
     "data": {
      "image/png": "[encoded data removed]",
      "text/plain": [
       "<Figure size 1200x400 with 1 Axes>"
      ]
     },
     "metadata": {},
     "output_type": "display_data"
    }
   ],
   "source": [
    "data['High'].plot(figsize=(12,4))"
   ]
  },
  {
   "cell_type": "code",
   "execution_count": 30,
   "id": "d81c2046",
   "metadata": {},
   "outputs": [
    {
     "data": {
      "text/plain": [
       "<Axes: xlabel='Date'>"
      ]
     },
     "execution_count": 30,
     "metadata": {},
     "output_type": "execute_result"
    },
    {
     "data": {
      "image/png": "[encoded data removed]",
      "text/plain": [
       "<Figure size 1200x400 with 1 Axes>"
      ]
     },
     "metadata": {},
     "output_type": "display_data"
    }
   ],
   "source": [
    "# giving x limit and y limit and coloring, ls = linestyling\n",
    "data['High'].plot(xlim=['2022-01-01','2023-08-01'], ylim = [0,400], figsize=(12,4), c='red', ls='--')"
   ]
  },
  {
   "cell_type": "code",
   "execution_count": 39,
   "id": "c9fc3ab5",
   "metadata": {},
   "outputs": [
    {
     "data": {
      "text/html": [
       "<div>\n",
       "<style scoped>\n",
       "    .dataframe tbody tr th:only-of-type {\n",
       "        vertical-align: middle;\n",
       "    }\n",
       "\n",
       "    .dataframe tbody tr th {\n",
       "        vertical-align: top;\n",
       "    }\n",
       "\n",
       "    .dataframe thead th {\n",
       "        text-align: right;\n",
       "    }\n",
       "</style>\n",
       "<table border=\"1\" class=\"dataframe\">\n",
       "  <thead>\n",
       "    <tr style=\"text-align: right;\">\n",
       "      <th></th>\n",
       "      <th>Open</th>\n",
       "      <th>High</th>\n",
       "      <th>Low</th>\n",
       "      <th>Close</th>\n",
       "      <th>Adj Close</th>\n",
       "      <th>Volume</th>\n",
       "    </tr>\n",
       "    <tr>\n",
       "      <th>Date</th>\n",
       "      <th></th>\n",
       "      <th></th>\n",
       "      <th></th>\n",
       "      <th></th>\n",
       "      <th></th>\n",
       "      <th></th>\n",
       "    </tr>\n",
       "  </thead>\n",
       "  <tbody>\n",
       "    <tr>\n",
       "      <th>2022-01-03</th>\n",
       "      <td>382.583344</td>\n",
       "      <td>400.356659</td>\n",
       "      <td>378.679993</td>\n",
       "      <td>399.926666</td>\n",
       "      <td>399.926666</td>\n",
       "      <td>103931400</td>\n",
       "    </tr>\n",
       "    <tr>\n",
       "      <th>2022-01-04</th>\n",
       "      <td>396.516663</td>\n",
       "      <td>402.666656</td>\n",
       "      <td>374.350006</td>\n",
       "      <td>383.196655</td>\n",
       "      <td>383.196655</td>\n",
       "      <td>100248300</td>\n",
       "    </tr>\n",
       "    <tr>\n",
       "      <th>2022-01-05</th>\n",
       "      <td>382.216675</td>\n",
       "      <td>390.113342</td>\n",
       "      <td>360.336670</td>\n",
       "      <td>362.706665</td>\n",
       "      <td>362.706665</td>\n",
       "      <td>80119800</td>\n",
       "    </tr>\n",
       "    <tr>\n",
       "      <th>2022-01-06</th>\n",
       "      <td>359.000000</td>\n",
       "      <td>362.666656</td>\n",
       "      <td>340.166656</td>\n",
       "      <td>354.899994</td>\n",
       "      <td>354.899994</td>\n",
       "      <td>90336600</td>\n",
       "    </tr>\n",
       "    <tr>\n",
       "      <th>2022-01-07</th>\n",
       "      <td>360.123322</td>\n",
       "      <td>360.309998</td>\n",
       "      <td>336.666656</td>\n",
       "      <td>342.320007</td>\n",
       "      <td>342.320007</td>\n",
       "      <td>84164700</td>\n",
       "    </tr>\n",
       "    <tr>\n",
       "      <th>...</th>\n",
       "      <td>...</td>\n",
       "      <td>...</td>\n",
       "      <td>...</td>\n",
       "      <td>...</td>\n",
       "      <td>...</td>\n",
       "      <td>...</td>\n",
       "    </tr>\n",
       "    <tr>\n",
       "      <th>2023-07-26</th>\n",
       "      <td>263.250000</td>\n",
       "      <td>268.040009</td>\n",
       "      <td>261.750000</td>\n",
       "      <td>264.350006</td>\n",
       "      <td>264.350006</td>\n",
       "      <td>95856200</td>\n",
       "    </tr>\n",
       "    <tr>\n",
       "      <th>2023-07-27</th>\n",
       "      <td>268.309998</td>\n",
       "      <td>269.130005</td>\n",
       "      <td>255.300003</td>\n",
       "      <td>255.710007</td>\n",
       "      <td>255.710007</td>\n",
       "      <td>103697300</td>\n",
       "    </tr>\n",
       "    <tr>\n",
       "      <th>2023-07-28</th>\n",
       "      <td>259.859985</td>\n",
       "      <td>267.250000</td>\n",
       "      <td>258.230011</td>\n",
       "      <td>266.440002</td>\n",
       "      <td>266.440002</td>\n",
       "      <td>111446000</td>\n",
       "    </tr>\n",
       "    <tr>\n",
       "      <th>2023-07-31</th>\n",
       "      <td>267.480011</td>\n",
       "      <td>269.079987</td>\n",
       "      <td>263.779999</td>\n",
       "      <td>267.429993</td>\n",
       "      <td>267.429993</td>\n",
       "      <td>84582200</td>\n",
       "    </tr>\n",
       "    <tr>\n",
       "      <th>2023-08-01</th>\n",
       "      <td>266.260010</td>\n",
       "      <td>266.470001</td>\n",
       "      <td>260.250000</td>\n",
       "      <td>261.070007</td>\n",
       "      <td>261.070007</td>\n",
       "      <td>83166000</td>\n",
       "    </tr>\n",
       "  </tbody>\n",
       "</table>\n",
       "<p>396 rows × 6 columns</p>\n",
       "</div>"
      ],
      "text/plain": [
       "                  Open        High         Low       Close   Adj Close  \\\n",
       "Date                                                                     \n",
       "2022-01-03  382.583344  400.356659  378.679993  399.926666  399.926666   \n",
       "2022-01-04  396.516663  402.666656  374.350006  383.196655  383.196655   \n",
       "2022-01-05  382.216675  390.113342  360.336670  362.706665  362.706665   \n",
       "2022-01-06  359.000000  362.666656  340.166656  354.899994  354.899994   \n",
       "2022-01-07  360.123322  360.309998  336.666656  342.320007  342.320007   \n",
       "...                ...         ...         ...         ...         ...   \n",
       "2023-07-26  263.250000  268.040009  261.750000  264.350006  264.350006   \n",
       "2023-07-27  268.309998  269.130005  255.300003  255.710007  255.710007   \n",
       "2023-07-28  259.859985  267.250000  258.230011  266.440002  266.440002   \n",
       "2023-07-31  267.480011  269.079987  263.779999  267.429993  267.429993   \n",
       "2023-08-01  266.260010  266.470001  260.250000  261.070007  261.070007   \n",
       "\n",
       "               Volume  \n",
       "Date                   \n",
       "2022-01-03  103931400  \n",
       "2022-01-04  100248300  \n",
       "2022-01-05   80119800  \n",
       "2022-01-06   90336600  \n",
       "2022-01-07   84164700  \n",
       "...               ...  \n",
       "2023-07-26   95856200  \n",
       "2023-07-27  103697300  \n",
       "2023-07-28  111446000  \n",
       "2023-07-31   84582200  \n",
       "2023-08-01   83166000  \n",
       "\n",
       "[396 rows x 6 columns]"
      ]
     },
     "execution_count": 39,
     "metadata": {},
     "output_type": "execute_result"
    }
   ],
   "source": [
    "data.loc['2022-01-01':'2023-08-01']"
   ]
  },
  {
   "cell_type": "code",
   "execution_count": 41,
   "id": "c82f37c3",
   "metadata": {},
   "outputs": [],
   "source": [
    "index = data.loc['2022-01-01':'2023-08-01'].index\n",
    "share_open = data.loc['2022-01-01':'2023-08-01']['Open']"
   ]
  },
  {
   "cell_type": "code",
   "execution_count": 42,
   "id": "2019e3f9",
   "metadata": {},
   "outputs": [
    {
     "data": {
      "text/plain": [
       "Date\n",
       "2022-01-03    382.583344\n",
       "2022-01-04    396.516663\n",
       "2022-01-05    382.216675\n",
       "2022-01-06    359.000000\n",
       "2022-01-07    360.123322\n",
       "                 ...    \n",
       "2023-07-26    263.250000\n",
       "2023-07-27    268.309998\n",
       "2023-07-28    259.859985\n",
       "2023-07-31    267.480011\n",
       "2023-08-01    266.260010\n",
       "Name: Open, Length: 396, dtype: float64"
      ]
     },
     "execution_count": 42,
     "metadata": {},
     "output_type": "execute_result"
    }
   ],
   "source": [
    "share_open"
   ]
  },
  {
   "cell_type": "code",
   "execution_count": 43,
   "id": "6d71c779",
   "metadata": {},
   "outputs": [
    {
     "data": {
      "text/plain": [
       "DatetimeIndex(['2022-01-03', '2022-01-04', '2022-01-05', '2022-01-06',\n",
       "               '2022-01-07', '2022-01-10', '2022-01-11', '2022-01-12',\n",
       "               '2022-01-13', '2022-01-14',\n",
       "               ...\n",
       "               '2023-07-19', '2023-07-20', '2023-07-21', '2023-07-24',\n",
       "               '2023-07-25', '2023-07-26', '2023-07-27', '2023-07-28',\n",
       "               '2023-07-31', '2023-08-01'],\n",
       "              dtype='datetime64[ns]', name='Date', length=396, freq=None)"
      ]
     },
     "execution_count": 43,
     "metadata": {},
     "output_type": "execute_result"
    }
   ],
   "source": [
    "index"
   ]
  },
  {
   "cell_type": "code",
   "execution_count": 44,
   "id": "db3bf7fb",
   "metadata": {},
   "outputs": [],
   "source": [
    "import matplotlib.pyplot as plt\n",
    "%matplotlib inline"
   ]
  },
  {
   "cell_type": "code",
   "execution_count": 48,
   "id": "18d279b1",
   "metadata": {},
   "outputs": [
    {
     "data": {
      "text/plain": [
       "[<matplotlib.lines.Line2D at 0x2218f76aa90>]"
      ]
     },
     "execution_count": 48,
     "metadata": {},
     "output_type": "execute_result"
    },
    {
     "data": {
      "image/png": "[encoded data removed]",
      "text/plain": [
       "<Figure size 640x480 with 1 Axes>"
      ]
     },
     "metadata": {},
     "output_type": "display_data"
    }
   ],
   "source": [
    "figure, axis = plt.subplots()\n",
    "plt.tight_layout()\n",
    "# to prevent overlapping\n",
    "figure.autofmt_xdate()\n",
    "\n",
    "axis.plot(index, share_open)"
   ]
  },
  {
   "cell_type": "markdown",
   "id": "17aba8d6",
   "metadata": {},
   "source": [
    "## Datetime Index"
   ]
  },
  {
   "cell_type": "code",
   "execution_count": 50,
   "id": "70c6d9a1",
   "metadata": {},
   "outputs": [],
   "source": [
    "data = data.reset_index()"
   ]
  },
  {
   "cell_type": "code",
   "execution_count": 51,
   "id": "b0953f60",
   "metadata": {},
   "outputs": [
    {
     "name": "stdout",
     "output_type": "stream",
     "text": [
      "<class 'pandas.core.frame.DataFrame'>\n",
      "RangeIndex: 1008 entries, 0 to 1007\n",
      "Data columns (total 7 columns):\n",
      " #   Column     Non-Null Count  Dtype         \n",
      "---  ------     --------------  -----         \n",
      " 0   Date       1008 non-null   datetime64[ns]\n",
      " 1   Open       1008 non-null   float64       \n",
      " 2   High       1008 non-null   float64       \n",
      " 3   Low        1008 non-null   float64       \n",
      " 4   Close      1008 non-null   float64       \n",
      " 5   Adj Close  1008 non-null   float64       \n",
      " 6   Volume     1008 non-null   int64         \n",
      "dtypes: datetime64[ns](1), float64(5), int64(1)\n",
      "memory usage: 55.3 KB\n"
     ]
    }
   ],
   "source": [
    "data.info()"
   ]
  },
  {
   "cell_type": "code",
   "execution_count": 53,
   "id": "a79588b7",
   "metadata": {},
   "outputs": [
    {
     "data": {
      "text/plain": [
       "0      2020-02-18\n",
       "1      2020-02-19\n",
       "2      2020-02-20\n",
       "3      2020-02-21\n",
       "4      2020-02-24\n",
       "          ...    \n",
       "1003   2024-02-12\n",
       "1004   2024-02-13\n",
       "1005   2024-02-14\n",
       "1006   2024-02-15\n",
       "1007   2024-02-16\n",
       "Name: Date, Length: 1008, dtype: datetime64[ns]"
      ]
     },
     "execution_count": 53,
     "metadata": {},
     "output_type": "execute_result"
    }
   ],
   "source": [
    "pd.to_datetime(data['Date'])"
   ]
  },
  {
   "cell_type": "code",
   "execution_count": 55,
   "id": "20bb5941",
   "metadata": {},
   "outputs": [],
   "source": [
    "data = data.set_index(['Date'],drop=True)"
   ]
  },
  {
   "cell_type": "code",
   "execution_count": 59,
   "id": "251314ff",
   "metadata": {},
   "outputs": [
    {
     "data": {
      "text/html": [
       "<div>\n",
       "<style scoped>\n",
       "    .dataframe tbody tr th:only-of-type {\n",
       "        vertical-align: middle;\n",
       "    }\n",
       "\n",
       "    .dataframe tbody tr th {\n",
       "        vertical-align: top;\n",
       "    }\n",
       "\n",
       "    .dataframe thead th {\n",
       "        text-align: right;\n",
       "    }\n",
       "</style>\n",
       "<table border=\"1\" class=\"dataframe\">\n",
       "  <thead>\n",
       "    <tr style=\"text-align: right;\">\n",
       "      <th></th>\n",
       "      <th>Open</th>\n",
       "      <th>High</th>\n",
       "      <th>Low</th>\n",
       "      <th>Close</th>\n",
       "      <th>Adj Close</th>\n",
       "      <th>Volume</th>\n",
       "    </tr>\n",
       "    <tr>\n",
       "      <th>Date</th>\n",
       "      <th></th>\n",
       "      <th></th>\n",
       "      <th></th>\n",
       "      <th></th>\n",
       "      <th></th>\n",
       "      <th></th>\n",
       "    </tr>\n",
       "  </thead>\n",
       "  <tbody>\n",
       "    <tr>\n",
       "      <th>2020-02-18</th>\n",
       "      <td>56.106667</td>\n",
       "      <td>57.333332</td>\n",
       "      <td>55.490665</td>\n",
       "      <td>57.226665</td>\n",
       "      <td>57.226665</td>\n",
       "      <td>245725500</td>\n",
       "    </tr>\n",
       "    <tr>\n",
       "      <th>2020-02-19</th>\n",
       "      <td>61.566666</td>\n",
       "      <td>62.985332</td>\n",
       "      <td>60.068001</td>\n",
       "      <td>61.161331</td>\n",
       "      <td>61.161331</td>\n",
       "      <td>381345000</td>\n",
       "    </tr>\n",
       "    <tr>\n",
       "      <th>2020-02-20</th>\n",
       "      <td>60.796665</td>\n",
       "      <td>60.799999</td>\n",
       "      <td>57.329334</td>\n",
       "      <td>59.960667</td>\n",
       "      <td>59.960667</td>\n",
       "      <td>264523500</td>\n",
       "    </tr>\n",
       "    <tr>\n",
       "      <th>2020-02-21</th>\n",
       "      <td>60.465332</td>\n",
       "      <td>60.870667</td>\n",
       "      <td>58.696667</td>\n",
       "      <td>60.066666</td>\n",
       "      <td>60.066666</td>\n",
       "      <td>214722000</td>\n",
       "    </tr>\n",
       "    <tr>\n",
       "      <th>2020-02-24</th>\n",
       "      <td>55.933334</td>\n",
       "      <td>57.566666</td>\n",
       "      <td>54.813332</td>\n",
       "      <td>55.585999</td>\n",
       "      <td>55.585999</td>\n",
       "      <td>227883000</td>\n",
       "    </tr>\n",
       "  </tbody>\n",
       "</table>\n",
       "</div>"
      ],
      "text/plain": [
       "                 Open       High        Low      Close  Adj Close     Volume\n",
       "Date                                                                        \n",
       "2020-02-18  56.106667  57.333332  55.490665  57.226665  57.226665  245725500\n",
       "2020-02-19  61.566666  62.985332  60.068001  61.161331  61.161331  381345000\n",
       "2020-02-20  60.796665  60.799999  57.329334  59.960667  59.960667  264523500\n",
       "2020-02-21  60.465332  60.870667  58.696667  60.066666  60.066666  214722000\n",
       "2020-02-24  55.933334  57.566666  54.813332  55.585999  55.585999  227883000"
      ]
     },
     "execution_count": 59,
     "metadata": {},
     "output_type": "execute_result"
    }
   ],
   "source": [
    "data.head()"
   ]
  },
  {
   "cell_type": "code",
   "execution_count": 60,
   "id": "7a41ab45",
   "metadata": {},
   "outputs": [],
   "source": [
    "from datetime import datetime"
   ]
  },
  {
   "cell_type": "code",
   "execution_count": 61,
   "id": "37ee63c3",
   "metadata": {},
   "outputs": [
    {
     "data": {
      "text/plain": [
       "datetime.datetime(2022, 11, 20, 0, 0)"
      ]
     },
     "execution_count": 61,
     "metadata": {},
     "output_type": "execute_result"
    }
   ],
   "source": [
    "datetime(2022,11,20)"
   ]
  },
  {
   "cell_type": "code",
   "execution_count": 63,
   "id": "f5c2e305",
   "metadata": {},
   "outputs": [
    {
     "data": {
      "text/plain": [
       "datetime.datetime(2024, 2, 18, 16, 36, 1, 114111)"
      ]
     },
     "execution_count": 63,
     "metadata": {},
     "output_type": "execute_result"
    }
   ],
   "source": [
    "datetime.now()"
   ]
  },
  {
   "cell_type": "code",
   "execution_count": 68,
   "id": "b5899f5b",
   "metadata": {},
   "outputs": [],
   "source": [
    "date = datetime(2024,2,18)"
   ]
  },
  {
   "cell_type": "code",
   "execution_count": 70,
   "id": "483a0774",
   "metadata": {},
   "outputs": [
    {
     "data": {
      "text/plain": [
       "datetime.date(2024, 2, 18)"
      ]
     },
     "execution_count": 70,
     "metadata": {},
     "output_type": "execute_result"
    }
   ],
   "source": [
    "date.date()"
   ]
  },
  {
   "cell_type": "code",
   "execution_count": 71,
   "id": "60abe38e",
   "metadata": {},
   "outputs": [
    {
     "data": {
      "text/plain": [
       "18"
      ]
     },
     "execution_count": 71,
     "metadata": {},
     "output_type": "execute_result"
    }
   ],
   "source": [
    "date.day"
   ]
  },
  {
   "cell_type": "code",
   "execution_count": 73,
   "id": "6704b9ff",
   "metadata": {},
   "outputs": [
    {
     "data": {
      "text/plain": [
       "6"
      ]
     },
     "execution_count": 73,
     "metadata": {},
     "output_type": "execute_result"
    }
   ],
   "source": [
    "date.weekday()"
   ]
  },
  {
   "cell_type": "code",
   "execution_count": 74,
   "id": "08dc755d",
   "metadata": {},
   "outputs": [
    {
     "data": {
      "text/plain": [
       "2024"
      ]
     },
     "execution_count": 74,
     "metadata": {},
     "output_type": "execute_result"
    }
   ],
   "source": [
    "date.year"
   ]
  },
  {
   "cell_type": "code",
   "execution_count": 75,
   "id": "0e6ef211",
   "metadata": {},
   "outputs": [
    {
     "data": {
      "text/plain": [
       "2"
      ]
     },
     "execution_count": 75,
     "metadata": {},
     "output_type": "execute_result"
    }
   ],
   "source": [
    "date.month"
   ]
  },
  {
   "cell_type": "markdown",
   "id": "e92d956c",
   "metadata": {},
   "source": [
    "## Time Resampling\n",
    "\n",
    "- Rule 'A' : Year and Frequency\n",
    "- Rule 'QS' : Quaterly"
   ]
  },
  {
   "cell_type": "code",
   "execution_count": 77,
   "id": "734ec180",
   "metadata": {},
   "outputs": [
    {
     "data": {
      "text/html": [
       "<div>\n",
       "<style scoped>\n",
       "    .dataframe tbody tr th:only-of-type {\n",
       "        vertical-align: middle;\n",
       "    }\n",
       "\n",
       "    .dataframe tbody tr th {\n",
       "        vertical-align: top;\n",
       "    }\n",
       "\n",
       "    .dataframe thead th {\n",
       "        text-align: right;\n",
       "    }\n",
       "</style>\n",
       "<table border=\"1\" class=\"dataframe\">\n",
       "  <thead>\n",
       "    <tr style=\"text-align: right;\">\n",
       "      <th></th>\n",
       "      <th>Open</th>\n",
       "      <th>High</th>\n",
       "      <th>Low</th>\n",
       "      <th>Close</th>\n",
       "      <th>Adj Close</th>\n",
       "      <th>Volume</th>\n",
       "    </tr>\n",
       "    <tr>\n",
       "      <th>Date</th>\n",
       "      <th></th>\n",
       "      <th></th>\n",
       "      <th></th>\n",
       "      <th></th>\n",
       "      <th></th>\n",
       "      <th></th>\n",
       "    </tr>\n",
       "  </thead>\n",
       "  <tbody>\n",
       "    <tr>\n",
       "      <th>2020-02-18</th>\n",
       "      <td>56.106667</td>\n",
       "      <td>57.333332</td>\n",
       "      <td>55.490665</td>\n",
       "      <td>57.226665</td>\n",
       "      <td>57.226665</td>\n",
       "      <td>245725500</td>\n",
       "    </tr>\n",
       "    <tr>\n",
       "      <th>2020-02-19</th>\n",
       "      <td>61.566666</td>\n",
       "      <td>62.985332</td>\n",
       "      <td>60.068001</td>\n",
       "      <td>61.161331</td>\n",
       "      <td>61.161331</td>\n",
       "      <td>381345000</td>\n",
       "    </tr>\n",
       "    <tr>\n",
       "      <th>2020-02-20</th>\n",
       "      <td>60.796665</td>\n",
       "      <td>60.799999</td>\n",
       "      <td>57.329334</td>\n",
       "      <td>59.960667</td>\n",
       "      <td>59.960667</td>\n",
       "      <td>264523500</td>\n",
       "    </tr>\n",
       "    <tr>\n",
       "      <th>2020-02-21</th>\n",
       "      <td>60.465332</td>\n",
       "      <td>60.870667</td>\n",
       "      <td>58.696667</td>\n",
       "      <td>60.066666</td>\n",
       "      <td>60.066666</td>\n",
       "      <td>214722000</td>\n",
       "    </tr>\n",
       "    <tr>\n",
       "      <th>2020-02-24</th>\n",
       "      <td>55.933334</td>\n",
       "      <td>57.566666</td>\n",
       "      <td>54.813332</td>\n",
       "      <td>55.585999</td>\n",
       "      <td>55.585999</td>\n",
       "      <td>227883000</td>\n",
       "    </tr>\n",
       "  </tbody>\n",
       "</table>\n",
       "</div>"
      ],
      "text/plain": [
       "                 Open       High        Low      Close  Adj Close     Volume\n",
       "Date                                                                        \n",
       "2020-02-18  56.106667  57.333332  55.490665  57.226665  57.226665  245725500\n",
       "2020-02-19  61.566666  62.985332  60.068001  61.161331  61.161331  381345000\n",
       "2020-02-20  60.796665  60.799999  57.329334  59.960667  59.960667  264523500\n",
       "2020-02-21  60.465332  60.870667  58.696667  60.066666  60.066666  214722000\n",
       "2020-02-24  55.933334  57.566666  54.813332  55.585999  55.585999  227883000"
      ]
     },
     "execution_count": 77,
     "metadata": {},
     "output_type": "execute_result"
    }
   ],
   "source": [
    "data.head()"
   ]
  },
  {
   "cell_type": "code",
   "execution_count": 78,
   "id": "10a40242",
   "metadata": {},
   "outputs": [
    {
     "data": {
      "text/html": [
       "<div>\n",
       "<style scoped>\n",
       "    .dataframe tbody tr th:only-of-type {\n",
       "        vertical-align: middle;\n",
       "    }\n",
       "\n",
       "    .dataframe tbody tr th {\n",
       "        vertical-align: top;\n",
       "    }\n",
       "\n",
       "    .dataframe thead th {\n",
       "        text-align: right;\n",
       "    }\n",
       "</style>\n",
       "<table border=\"1\" class=\"dataframe\">\n",
       "  <thead>\n",
       "    <tr style=\"text-align: right;\">\n",
       "      <th></th>\n",
       "      <th>Open</th>\n",
       "      <th>High</th>\n",
       "      <th>Low</th>\n",
       "      <th>Close</th>\n",
       "      <th>Adj Close</th>\n",
       "      <th>Volume</th>\n",
       "    </tr>\n",
       "    <tr>\n",
       "      <th>Date</th>\n",
       "      <th></th>\n",
       "      <th></th>\n",
       "      <th></th>\n",
       "      <th></th>\n",
       "      <th></th>\n",
       "      <th></th>\n",
       "    </tr>\n",
       "  </thead>\n",
       "  <tbody>\n",
       "    <tr>\n",
       "      <th>2020-12-31</th>\n",
       "      <td>24.980000</td>\n",
       "      <td>26.990667</td>\n",
       "      <td>23.367332</td>\n",
       "      <td>24.081333</td>\n",
       "      <td>24.081333</td>\n",
       "      <td>52073100</td>\n",
       "    </tr>\n",
       "    <tr>\n",
       "      <th>2021-12-31</th>\n",
       "      <td>184.183334</td>\n",
       "      <td>188.736664</td>\n",
       "      <td>179.830002</td>\n",
       "      <td>187.666672</td>\n",
       "      <td>187.666672</td>\n",
       "      <td>29401800</td>\n",
       "    </tr>\n",
       "    <tr>\n",
       "      <th>2022-12-31</th>\n",
       "      <td>110.349998</td>\n",
       "      <td>116.269997</td>\n",
       "      <td>108.239998</td>\n",
       "      <td>109.099998</td>\n",
       "      <td>109.099998</td>\n",
       "      <td>41864700</td>\n",
       "    </tr>\n",
       "    <tr>\n",
       "      <th>2023-12-31</th>\n",
       "      <td>103.000000</td>\n",
       "      <td>111.750000</td>\n",
       "      <td>101.809998</td>\n",
       "      <td>108.099998</td>\n",
       "      <td>108.099998</td>\n",
       "      <td>65125200</td>\n",
       "    </tr>\n",
       "    <tr>\n",
       "      <th>2024-12-31</th>\n",
       "      <td>177.210007</td>\n",
       "      <td>184.679993</td>\n",
       "      <td>175.009995</td>\n",
       "      <td>181.059998</td>\n",
       "      <td>181.059998</td>\n",
       "      <td>81203000</td>\n",
       "    </tr>\n",
       "  </tbody>\n",
       "</table>\n",
       "</div>"
      ],
      "text/plain": [
       "                  Open        High         Low       Close   Adj Close  \\\n",
       "Date                                                                     \n",
       "2020-12-31   24.980000   26.990667   23.367332   24.081333   24.081333   \n",
       "2021-12-31  184.183334  188.736664  179.830002  187.666672  187.666672   \n",
       "2022-12-31  110.349998  116.269997  108.239998  109.099998  109.099998   \n",
       "2023-12-31  103.000000  111.750000  101.809998  108.099998  108.099998   \n",
       "2024-12-31  177.210007  184.679993  175.009995  181.059998  181.059998   \n",
       "\n",
       "              Volume  \n",
       "Date                  \n",
       "2020-12-31  52073100  \n",
       "2021-12-31  29401800  \n",
       "2022-12-31  41864700  \n",
       "2023-12-31  65125200  \n",
       "2024-12-31  81203000  "
      ]
     },
     "execution_count": 78,
     "metadata": {},
     "output_type": "execute_result"
    }
   ],
   "source": [
    "# Minimum share price gone for that specific yer\n",
    "data.resample(rule = 'A').min()"
   ]
  },
  {
   "cell_type": "code",
   "execution_count": 79,
   "id": "1c75386b",
   "metadata": {},
   "outputs": [
    {
     "data": {
      "text/html": [
       "<div>\n",
       "<style scoped>\n",
       "    .dataframe tbody tr th:only-of-type {\n",
       "        vertical-align: middle;\n",
       "    }\n",
       "\n",
       "    .dataframe tbody tr th {\n",
       "        vertical-align: top;\n",
       "    }\n",
       "\n",
       "    .dataframe thead th {\n",
       "        text-align: right;\n",
       "    }\n",
       "</style>\n",
       "<table border=\"1\" class=\"dataframe\">\n",
       "  <thead>\n",
       "    <tr style=\"text-align: right;\">\n",
       "      <th></th>\n",
       "      <th>Open</th>\n",
       "      <th>High</th>\n",
       "      <th>Low</th>\n",
       "      <th>Close</th>\n",
       "      <th>Adj Close</th>\n",
       "      <th>Volume</th>\n",
       "    </tr>\n",
       "    <tr>\n",
       "      <th>Date</th>\n",
       "      <th></th>\n",
       "      <th></th>\n",
       "      <th></th>\n",
       "      <th></th>\n",
       "      <th></th>\n",
       "      <th></th>\n",
       "    </tr>\n",
       "  </thead>\n",
       "  <tbody>\n",
       "    <tr>\n",
       "      <th>2020-12-31</th>\n",
       "      <td>233.330002</td>\n",
       "      <td>239.573334</td>\n",
       "      <td>230.373337</td>\n",
       "      <td>235.223328</td>\n",
       "      <td>235.223328</td>\n",
       "      <td>666378600</td>\n",
       "    </tr>\n",
       "    <tr>\n",
       "      <th>2021-12-31</th>\n",
       "      <td>411.470001</td>\n",
       "      <td>414.496674</td>\n",
       "      <td>405.666656</td>\n",
       "      <td>409.970001</td>\n",
       "      <td>409.970001</td>\n",
       "      <td>268189500</td>\n",
       "    </tr>\n",
       "    <tr>\n",
       "      <th>2022-12-31</th>\n",
       "      <td>396.516663</td>\n",
       "      <td>402.666656</td>\n",
       "      <td>378.679993</td>\n",
       "      <td>399.926666</td>\n",
       "      <td>399.926666</td>\n",
       "      <td>221923300</td>\n",
       "    </tr>\n",
       "    <tr>\n",
       "      <th>2023-12-31</th>\n",
       "      <td>296.040009</td>\n",
       "      <td>299.290009</td>\n",
       "      <td>289.519989</td>\n",
       "      <td>293.339996</td>\n",
       "      <td>293.339996</td>\n",
       "      <td>306590600</td>\n",
       "    </tr>\n",
       "    <tr>\n",
       "      <th>2024-12-31</th>\n",
       "      <td>250.080002</td>\n",
       "      <td>251.250000</td>\n",
       "      <td>244.410004</td>\n",
       "      <td>248.419998</td>\n",
       "      <td>248.419998</td>\n",
       "      <td>198076800</td>\n",
       "    </tr>\n",
       "  </tbody>\n",
       "</table>\n",
       "</div>"
      ],
      "text/plain": [
       "                  Open        High         Low       Close   Adj Close  \\\n",
       "Date                                                                     \n",
       "2020-12-31  233.330002  239.573334  230.373337  235.223328  235.223328   \n",
       "2021-12-31  411.470001  414.496674  405.666656  409.970001  409.970001   \n",
       "2022-12-31  396.516663  402.666656  378.679993  399.926666  399.926666   \n",
       "2023-12-31  296.040009  299.290009  289.519989  293.339996  293.339996   \n",
       "2024-12-31  250.080002  251.250000  244.410004  248.419998  248.419998   \n",
       "\n",
       "               Volume  \n",
       "Date                   \n",
       "2020-12-31  666378600  \n",
       "2021-12-31  268189500  \n",
       "2022-12-31  221923300  \n",
       "2023-12-31  306590600  \n",
       "2024-12-31  198076800  "
      ]
     },
     "execution_count": 79,
     "metadata": {},
     "output_type": "execute_result"
    }
   ],
   "source": [
    "# Maximum share price gone for that specific yer\n",
    "data.resample(rule = 'A').max()\n"
   ]
  },
  {
   "cell_type": "code",
   "execution_count": 80,
   "id": "44c48831",
   "metadata": {},
   "outputs": [
    {
     "data": {
      "text/plain": [
       "<Axes: xlabel='Date'>"
      ]
     },
     "execution_count": 80,
     "metadata": {},
     "output_type": "execute_result"
    },
    {
     "data": {
      "image/png": "[encoded data removed]",
      "text/plain": [
       "<Figure size 640x480 with 1 Axes>"
      ]
     },
     "metadata": {},
     "output_type": "display_data"
    }
   ],
   "source": [
    "data.resample(rule = 'A').max()['Open'].plot()\n"
   ]
  },
  {
   "cell_type": "code",
   "execution_count": 83,
   "id": "6a1aeb18",
   "metadata": {},
   "outputs": [
    {
     "data": {
      "text/plain": [
       "<Axes: xlabel='Date'>"
      ]
     },
     "execution_count": 83,
     "metadata": {},
     "output_type": "execute_result"
    },
    {
     "data": {
      "image/png": "[encoded data removed]",
      "text/plain": [
       "<Figure size 640x480 with 1 Axes>"
      ]
     },
     "metadata": {},
     "output_type": "display_data"
    }
   ],
   "source": [
    "# Quartely Sampple\n",
    "data.resample(rule = 'QS').max()['High'].plot()"
   ]
  },
  {
   "cell_type": "code",
   "execution_count": 85,
   "id": "45c843e3",
   "metadata": {},
   "outputs": [
    {
     "data": {
      "text/html": [
       "<div>\n",
       "<style scoped>\n",
       "    .dataframe tbody tr th:only-of-type {\n",
       "        vertical-align: middle;\n",
       "    }\n",
       "\n",
       "    .dataframe tbody tr th {\n",
       "        vertical-align: top;\n",
       "    }\n",
       "\n",
       "    .dataframe thead th {\n",
       "        text-align: right;\n",
       "    }\n",
       "</style>\n",
       "<table border=\"1\" class=\"dataframe\">\n",
       "  <thead>\n",
       "    <tr style=\"text-align: right;\">\n",
       "      <th></th>\n",
       "      <th>Open</th>\n",
       "      <th>High</th>\n",
       "      <th>Low</th>\n",
       "      <th>Close</th>\n",
       "      <th>Adj Close</th>\n",
       "      <th>Volume</th>\n",
       "    </tr>\n",
       "    <tr>\n",
       "      <th>Date</th>\n",
       "      <th></th>\n",
       "      <th></th>\n",
       "      <th></th>\n",
       "      <th></th>\n",
       "      <th></th>\n",
       "      <th></th>\n",
       "    </tr>\n",
       "  </thead>\n",
       "  <tbody>\n",
       "    <tr>\n",
       "      <th>2020-12-31</th>\n",
       "      <td>233.330002</td>\n",
       "      <td>239.573334</td>\n",
       "      <td>230.373337</td>\n",
       "      <td>235.223328</td>\n",
       "      <td>235.223328</td>\n",
       "      <td>666378600</td>\n",
       "    </tr>\n",
       "    <tr>\n",
       "      <th>2021-12-31</th>\n",
       "      <td>411.470001</td>\n",
       "      <td>414.496674</td>\n",
       "      <td>405.666656</td>\n",
       "      <td>409.970001</td>\n",
       "      <td>409.970001</td>\n",
       "      <td>268189500</td>\n",
       "    </tr>\n",
       "    <tr>\n",
       "      <th>2022-12-30</th>\n",
       "      <td>396.516663</td>\n",
       "      <td>402.666656</td>\n",
       "      <td>378.679993</td>\n",
       "      <td>399.926666</td>\n",
       "      <td>399.926666</td>\n",
       "      <td>221923300</td>\n",
       "    </tr>\n",
       "    <tr>\n",
       "      <th>2023-12-29</th>\n",
       "      <td>296.040009</td>\n",
       "      <td>299.290009</td>\n",
       "      <td>289.519989</td>\n",
       "      <td>293.339996</td>\n",
       "      <td>293.339996</td>\n",
       "      <td>306590600</td>\n",
       "    </tr>\n",
       "    <tr>\n",
       "      <th>2024-12-31</th>\n",
       "      <td>250.080002</td>\n",
       "      <td>251.250000</td>\n",
       "      <td>244.410004</td>\n",
       "      <td>248.419998</td>\n",
       "      <td>248.419998</td>\n",
       "      <td>198076800</td>\n",
       "    </tr>\n",
       "  </tbody>\n",
       "</table>\n",
       "</div>"
      ],
      "text/plain": [
       "                  Open        High         Low       Close   Adj Close  \\\n",
       "Date                                                                     \n",
       "2020-12-31  233.330002  239.573334  230.373337  235.223328  235.223328   \n",
       "2021-12-31  411.470001  414.496674  405.666656  409.970001  409.970001   \n",
       "2022-12-30  396.516663  402.666656  378.679993  399.926666  399.926666   \n",
       "2023-12-29  296.040009  299.290009  289.519989  293.339996  293.339996   \n",
       "2024-12-31  250.080002  251.250000  244.410004  248.419998  248.419998   \n",
       "\n",
       "               Volume  \n",
       "Date                   \n",
       "2020-12-31  666378600  \n",
       "2021-12-31  268189500  \n",
       "2022-12-30  221923300  \n",
       "2023-12-29  306590600  \n",
       "2024-12-31  198076800  "
      ]
     },
     "execution_count": 85,
     "metadata": {},
     "output_type": "execute_result"
    }
   ],
   "source": [
    "## Business End Frequency\n",
    "data.resample(rule = 'BA').max()"
   ]
  },
  {
   "cell_type": "code",
   "execution_count": 87,
   "id": "6f6ebe62",
   "metadata": {
    "scrolled": true
   },
   "outputs": [
    {
     "data": {
      "text/plain": [
       "<Axes: xlabel='Date'>"
      ]
     },
     "execution_count": 87,
     "metadata": {},
     "output_type": "execute_result"
    },
    {
     "data": {
      "image/png": "[encoded data removed]",
      "text/plain": [
       "<Figure size 640x480 with 1 Axes>"
      ]
     },
     "metadata": {},
     "output_type": "display_data"
    }
   ],
   "source": [
    "data['Open'].resample(rule = 'BA').mean().plot(kind = 'bar')"
   ]
  },
  {
   "cell_type": "code",
   "execution_count": 88,
   "id": "95cecc88",
   "metadata": {
    "scrolled": true
   },
   "outputs": [
    {
     "data": {
      "text/plain": [
       "<Axes: xlabel='Date'>"
      ]
     },
     "execution_count": 88,
     "metadata": {},
     "output_type": "execute_result"
    },
    {
     "data": {
      "image/png": "[encoded data removed]",
      "text/plain": [
       "<Figure size 640x480 with 1 Axes>"
      ]
     },
     "metadata": {},
     "output_type": "display_data"
    }
   ],
   "source": [
    "data['Open'].resample(rule = 'A').mean().plot(kind = 'bar')"
   ]
  },
  {
   "cell_type": "code",
   "execution_count": 91,
   "id": "c034b1f3",
   "metadata": {},
   "outputs": [
    {
     "data": {
      "text/plain": [
       "<Axes: xlabel='Date'>"
      ]
     },
     "execution_count": 91,
     "metadata": {},
     "output_type": "execute_result"
    },
    {
     "data": {
      "image/png": "[encoded data removed]",
      "text/plain": [
       "<Figure size 1500x600 with 1 Axes>"
      ]
     },
     "metadata": {},
     "output_type": "display_data"
    }
   ],
   "source": [
    "data['Open'].resample(rule = 'M').max().plot(kind= 'bar', figsize=(15,6))"
   ]
  },
  {
   "cell_type": "code",
   "execution_count": 86,
   "id": "96843fac",
   "metadata": {},
   "outputs": [
    {
     "data": {
      "text/html": [
       "<div>\n",
       "<style scoped>\n",
       "    .dataframe tbody tr th:only-of-type {\n",
       "        vertical-align: middle;\n",
       "    }\n",
       "\n",
       "    .dataframe tbody tr th {\n",
       "        vertical-align: top;\n",
       "    }\n",
       "\n",
       "    .dataframe thead th {\n",
       "        text-align: right;\n",
       "    }\n",
       "</style>\n",
       "<table border=\"1\" class=\"dataframe\">\n",
       "  <thead>\n",
       "    <tr style=\"text-align: right;\">\n",
       "      <th></th>\n",
       "      <th>Open</th>\n",
       "      <th>High</th>\n",
       "      <th>Low</th>\n",
       "      <th>Close</th>\n",
       "      <th>Adj Close</th>\n",
       "      <th>Volume</th>\n",
       "    </tr>\n",
       "    <tr>\n",
       "      <th>Date</th>\n",
       "      <th></th>\n",
       "      <th></th>\n",
       "      <th></th>\n",
       "      <th></th>\n",
       "      <th></th>\n",
       "      <th></th>\n",
       "    </tr>\n",
       "  </thead>\n",
       "  <tbody>\n",
       "    <tr>\n",
       "      <th>2020-01-01</th>\n",
       "      <td>61.566666</td>\n",
       "      <td>62.985332</td>\n",
       "      <td>60.068001</td>\n",
       "      <td>61.161331</td>\n",
       "      <td>61.161331</td>\n",
       "      <td>452932500</td>\n",
       "    </tr>\n",
       "    <tr>\n",
       "      <th>2020-04-01</th>\n",
       "      <td>67.518669</td>\n",
       "      <td>72.512665</td>\n",
       "      <td>66.915337</td>\n",
       "      <td>71.987335</td>\n",
       "      <td>71.987335</td>\n",
       "      <td>487977000</td>\n",
       "    </tr>\n",
       "    <tr>\n",
       "      <th>2020-07-01</th>\n",
       "      <td>167.380005</td>\n",
       "      <td>167.496674</td>\n",
       "      <td>156.836670</td>\n",
       "      <td>166.106674</td>\n",
       "      <td>166.106674</td>\n",
       "      <td>584781000</td>\n",
       "    </tr>\n",
       "    <tr>\n",
       "      <th>2020-10-01</th>\n",
       "      <td>233.330002</td>\n",
       "      <td>239.573334</td>\n",
       "      <td>230.373337</td>\n",
       "      <td>235.223328</td>\n",
       "      <td>235.223328</td>\n",
       "      <td>666378600</td>\n",
       "    </tr>\n",
       "    <tr>\n",
       "      <th>2021-01-01</th>\n",
       "      <td>297.126678</td>\n",
       "      <td>300.133331</td>\n",
       "      <td>290.533325</td>\n",
       "      <td>294.363342</td>\n",
       "      <td>294.363342</td>\n",
       "      <td>268189500</td>\n",
       "    </tr>\n",
       "    <tr>\n",
       "      <th>2021-04-01</th>\n",
       "      <td>256.899994</td>\n",
       "      <td>260.263336</td>\n",
       "      <td>244.203339</td>\n",
       "      <td>254.106674</td>\n",
       "      <td>254.106674</td>\n",
       "      <td>147052200</td>\n",
       "    </tr>\n",
       "    <tr>\n",
       "      <th>2021-07-01</th>\n",
       "      <td>262.399994</td>\n",
       "      <td>266.333344</td>\n",
       "      <td>258.333344</td>\n",
       "      <td>263.786682</td>\n",
       "      <td>263.786682</td>\n",
       "      <td>100847400</td>\n",
       "    </tr>\n",
       "    <tr>\n",
       "      <th>2021-10-01</th>\n",
       "      <td>411.470001</td>\n",
       "      <td>414.496674</td>\n",
       "      <td>405.666656</td>\n",
       "      <td>409.970001</td>\n",
       "      <td>409.970001</td>\n",
       "      <td>188556300</td>\n",
       "    </tr>\n",
       "    <tr>\n",
       "      <th>2022-01-03</th>\n",
       "      <td>396.516663</td>\n",
       "      <td>402.666656</td>\n",
       "      <td>378.679993</td>\n",
       "      <td>399.926666</td>\n",
       "      <td>399.926666</td>\n",
       "      <td>151565700</td>\n",
       "    </tr>\n",
       "    <tr>\n",
       "      <th>2022-04-01</th>\n",
       "      <td>378.766663</td>\n",
       "      <td>384.290009</td>\n",
       "      <td>362.433319</td>\n",
       "      <td>381.816681</td>\n",
       "      <td>381.816681</td>\n",
       "      <td>144973200</td>\n",
       "    </tr>\n",
       "    <tr>\n",
       "      <th>2022-07-01</th>\n",
       "      <td>311.666656</td>\n",
       "      <td>314.666656</td>\n",
       "      <td>305.579987</td>\n",
       "      <td>309.320007</td>\n",
       "      <td>309.320007</td>\n",
       "      <td>142032300</td>\n",
       "    </tr>\n",
       "    <tr>\n",
       "      <th>2022-10-03</th>\n",
       "      <td>254.500000</td>\n",
       "      <td>257.500000</td>\n",
       "      <td>242.009995</td>\n",
       "      <td>249.440002</td>\n",
       "      <td>249.440002</td>\n",
       "      <td>221923300</td>\n",
       "    </tr>\n",
       "    <tr>\n",
       "      <th>2023-01-02</th>\n",
       "      <td>211.759995</td>\n",
       "      <td>217.649994</td>\n",
       "      <td>206.110001</td>\n",
       "      <td>214.240005</td>\n",
       "      <td>214.240005</td>\n",
       "      <td>306590600</td>\n",
       "    </tr>\n",
       "    <tr>\n",
       "      <th>2023-04-03</th>\n",
       "      <td>275.130005</td>\n",
       "      <td>276.989990</td>\n",
       "      <td>261.119995</td>\n",
       "      <td>274.450012</td>\n",
       "      <td>274.450012</td>\n",
       "      <td>211797100</td>\n",
       "    </tr>\n",
       "    <tr>\n",
       "      <th>2023-07-03</th>\n",
       "      <td>296.040009</td>\n",
       "      <td>299.290009</td>\n",
       "      <td>289.519989</td>\n",
       "      <td>293.339996</td>\n",
       "      <td>293.339996</td>\n",
       "      <td>175158300</td>\n",
       "    </tr>\n",
       "    <tr>\n",
       "      <th>2023-10-02</th>\n",
       "      <td>266.200012</td>\n",
       "      <td>268.940002</td>\n",
       "      <td>260.899994</td>\n",
       "      <td>263.619995</td>\n",
       "      <td>263.619995</td>\n",
       "      <td>170772700</td>\n",
       "    </tr>\n",
       "    <tr>\n",
       "      <th>2024-01-01</th>\n",
       "      <td>250.080002</td>\n",
       "      <td>251.250000</td>\n",
       "      <td>244.410004</td>\n",
       "      <td>248.419998</td>\n",
       "      <td>248.419998</td>\n",
       "      <td>198076800</td>\n",
       "    </tr>\n",
       "  </tbody>\n",
       "</table>\n",
       "</div>"
      ],
      "text/plain": [
       "                  Open        High         Low       Close   Adj Close  \\\n",
       "Date                                                                     \n",
       "2020-01-01   61.566666   62.985332   60.068001   61.161331   61.161331   \n",
       "2020-04-01   67.518669   72.512665   66.915337   71.987335   71.987335   \n",
       "2020-07-01  167.380005  167.496674  156.836670  166.106674  166.106674   \n",
       "2020-10-01  233.330002  239.573334  230.373337  235.223328  235.223328   \n",
       "2021-01-01  297.126678  300.133331  290.533325  294.363342  294.363342   \n",
       "2021-04-01  256.899994  260.263336  244.203339  254.106674  254.106674   \n",
       "2021-07-01  262.399994  266.333344  258.333344  263.786682  263.786682   \n",
       "2021-10-01  411.470001  414.496674  405.666656  409.970001  409.970001   \n",
       "2022-01-03  396.516663  402.666656  378.679993  399.926666  399.926666   \n",
       "2022-04-01  378.766663  384.290009  362.433319  381.816681  381.816681   \n",
       "2022-07-01  311.666656  314.666656  305.579987  309.320007  309.320007   \n",
       "2022-10-03  254.500000  257.500000  242.009995  249.440002  249.440002   \n",
       "2023-01-02  211.759995  217.649994  206.110001  214.240005  214.240005   \n",
       "2023-04-03  275.130005  276.989990  261.119995  274.450012  274.450012   \n",
       "2023-07-03  296.040009  299.290009  289.519989  293.339996  293.339996   \n",
       "2023-10-02  266.200012  268.940002  260.899994  263.619995  263.619995   \n",
       "2024-01-01  250.080002  251.250000  244.410004  248.419998  248.419998   \n",
       "\n",
       "               Volume  \n",
       "Date                   \n",
       "2020-01-01  452932500  \n",
       "2020-04-01  487977000  \n",
       "2020-07-01  584781000  \n",
       "2020-10-01  666378600  \n",
       "2021-01-01  268189500  \n",
       "2021-04-01  147052200  \n",
       "2021-07-01  100847400  \n",
       "2021-10-01  188556300  \n",
       "2022-01-03  151565700  \n",
       "2022-04-01  144973200  \n",
       "2022-07-01  142032300  \n",
       "2022-10-03  221923300  \n",
       "2023-01-02  306590600  \n",
       "2023-04-03  211797100  \n",
       "2023-07-03  175158300  \n",
       "2023-10-02  170772700  \n",
       "2024-01-01  198076800  "
      ]
     },
     "execution_count": 86,
     "metadata": {},
     "output_type": "execute_result"
    }
   ],
   "source": [
    "## Business Quaters\n",
    "data.resample(rule = 'BQS').max()"
   ]
  },
  {
   "cell_type": "markdown",
   "id": "d732f8eb",
   "metadata": {},
   "source": [
    "## Rolling"
   ]
  },
  {
   "cell_type": "code",
   "execution_count": 96,
   "id": "c0ff5b21",
   "metadata": {},
   "outputs": [
    {
     "data": {
      "text/plain": [
       "Date\n",
       "2020-02-18          NaN\n",
       "2020-02-19          NaN\n",
       "2020-02-20          NaN\n",
       "2020-02-21          NaN\n",
       "2020-02-24          NaN\n",
       "2020-02-25          NaN\n",
       "2020-02-26          NaN\n",
       "2020-02-27          NaN\n",
       "2020-02-28          NaN\n",
       "2020-03-02    55.581533\n",
       "2020-03-03    55.228067\n",
       "2020-03-04    54.039667\n",
       "2020-03-05    52.931334\n",
       "2020-03-06    51.557600\n",
       "2020-03-09    50.220934\n",
       "2020-03-10    48.963601\n",
       "2020-03-11    47.898734\n",
       "2020-03-12    46.930267\n",
       "2020-03-13    46.377266\n",
       "2020-03-16    44.718466\n",
       "Name: High, dtype: float64"
      ]
     },
     "execution_count": 96,
     "metadata": {},
     "output_type": "execute_result"
    }
   ],
   "source": [
    "data['High'].rolling(10).mean().head(20)"
   ]
  },
  {
   "cell_type": "code",
   "execution_count": 97,
   "id": "13fdbcb7",
   "metadata": {},
   "outputs": [],
   "source": [
    "data['Open: 30 days rolling'] = data['Open'].rolling(30).mean()"
   ]
  },
  {
   "cell_type": "code",
   "execution_count": 99,
   "id": "a4d286cd",
   "metadata": {},
   "outputs": [
    {
     "data": {
      "text/html": [
       "<div>\n",
       "<style scoped>\n",
       "    .dataframe tbody tr th:only-of-type {\n",
       "        vertical-align: middle;\n",
       "    }\n",
       "\n",
       "    .dataframe tbody tr th {\n",
       "        vertical-align: top;\n",
       "    }\n",
       "\n",
       "    .dataframe thead th {\n",
       "        text-align: right;\n",
       "    }\n",
       "</style>\n",
       "<table border=\"1\" class=\"dataframe\">\n",
       "  <thead>\n",
       "    <tr style=\"text-align: right;\">\n",
       "      <th></th>\n",
       "      <th>Open</th>\n",
       "      <th>High</th>\n",
       "      <th>Low</th>\n",
       "      <th>Close</th>\n",
       "      <th>Adj Close</th>\n",
       "      <th>Volume</th>\n",
       "      <th>Open: 30 days rolling</th>\n",
       "    </tr>\n",
       "    <tr>\n",
       "      <th>Date</th>\n",
       "      <th></th>\n",
       "      <th></th>\n",
       "      <th></th>\n",
       "      <th></th>\n",
       "      <th></th>\n",
       "      <th></th>\n",
       "      <th></th>\n",
       "    </tr>\n",
       "  </thead>\n",
       "  <tbody>\n",
       "    <tr>\n",
       "      <th>2020-02-18</th>\n",
       "      <td>56.106667</td>\n",
       "      <td>57.333332</td>\n",
       "      <td>55.490665</td>\n",
       "      <td>57.226665</td>\n",
       "      <td>57.226665</td>\n",
       "      <td>245725500</td>\n",
       "      <td>NaN</td>\n",
       "    </tr>\n",
       "    <tr>\n",
       "      <th>2020-02-19</th>\n",
       "      <td>61.566666</td>\n",
       "      <td>62.985332</td>\n",
       "      <td>60.068001</td>\n",
       "      <td>61.161331</td>\n",
       "      <td>61.161331</td>\n",
       "      <td>381345000</td>\n",
       "      <td>NaN</td>\n",
       "    </tr>\n",
       "    <tr>\n",
       "      <th>2020-02-20</th>\n",
       "      <td>60.796665</td>\n",
       "      <td>60.799999</td>\n",
       "      <td>57.329334</td>\n",
       "      <td>59.960667</td>\n",
       "      <td>59.960667</td>\n",
       "      <td>264523500</td>\n",
       "      <td>NaN</td>\n",
       "    </tr>\n",
       "    <tr>\n",
       "      <th>2020-02-21</th>\n",
       "      <td>60.465332</td>\n",
       "      <td>60.870667</td>\n",
       "      <td>58.696667</td>\n",
       "      <td>60.066666</td>\n",
       "      <td>60.066666</td>\n",
       "      <td>214722000</td>\n",
       "      <td>NaN</td>\n",
       "    </tr>\n",
       "    <tr>\n",
       "      <th>2020-02-24</th>\n",
       "      <td>55.933334</td>\n",
       "      <td>57.566666</td>\n",
       "      <td>54.813332</td>\n",
       "      <td>55.585999</td>\n",
       "      <td>55.585999</td>\n",
       "      <td>227883000</td>\n",
       "      <td>NaN</td>\n",
       "    </tr>\n",
       "    <tr>\n",
       "      <th>2020-02-25</th>\n",
       "      <td>56.599998</td>\n",
       "      <td>57.106667</td>\n",
       "      <td>52.466667</td>\n",
       "      <td>53.327332</td>\n",
       "      <td>53.327332</td>\n",
       "      <td>259357500</td>\n",
       "      <td>NaN</td>\n",
       "    </tr>\n",
       "    <tr>\n",
       "      <th>2020-02-26</th>\n",
       "      <td>52.166668</td>\n",
       "      <td>54.220669</td>\n",
       "      <td>51.740665</td>\n",
       "      <td>51.919998</td>\n",
       "      <td>51.919998</td>\n",
       "      <td>211282500</td>\n",
       "      <td>NaN</td>\n",
       "    </tr>\n",
       "    <tr>\n",
       "      <th>2020-02-27</th>\n",
       "      <td>48.666668</td>\n",
       "      <td>49.318001</td>\n",
       "      <td>44.599998</td>\n",
       "      <td>45.266666</td>\n",
       "      <td>45.266666</td>\n",
       "      <td>364158000</td>\n",
       "      <td>NaN</td>\n",
       "    </tr>\n",
       "    <tr>\n",
       "      <th>2020-02-28</th>\n",
       "      <td>41.980000</td>\n",
       "      <td>46.034668</td>\n",
       "      <td>40.768002</td>\n",
       "      <td>44.532665</td>\n",
       "      <td>44.532665</td>\n",
       "      <td>363343500</td>\n",
       "      <td>NaN</td>\n",
       "    </tr>\n",
       "    <tr>\n",
       "      <th>2020-03-02</th>\n",
       "      <td>47.417332</td>\n",
       "      <td>49.579334</td>\n",
       "      <td>45.778000</td>\n",
       "      <td>49.574669</td>\n",
       "      <td>49.574669</td>\n",
       "      <td>302925000</td>\n",
       "      <td>NaN</td>\n",
       "    </tr>\n",
       "    <tr>\n",
       "      <th>2020-03-03</th>\n",
       "      <td>53.666668</td>\n",
       "      <td>53.798668</td>\n",
       "      <td>47.740665</td>\n",
       "      <td>49.700668</td>\n",
       "      <td>49.700668</td>\n",
       "      <td>386760000</td>\n",
       "      <td>NaN</td>\n",
       "    </tr>\n",
       "    <tr>\n",
       "      <th>2020-03-04</th>\n",
       "      <td>50.930668</td>\n",
       "      <td>51.101334</td>\n",
       "      <td>48.315334</td>\n",
       "      <td>49.966667</td>\n",
       "      <td>49.966667</td>\n",
       "      <td>225735000</td>\n",
       "      <td>NaN</td>\n",
       "    </tr>\n",
       "    <tr>\n",
       "      <th>2020-03-05</th>\n",
       "      <td>48.251331</td>\n",
       "      <td>49.716667</td>\n",
       "      <td>47.871334</td>\n",
       "      <td>48.302666</td>\n",
       "      <td>48.302666</td>\n",
       "      <td>162790500</td>\n",
       "      <td>NaN</td>\n",
       "    </tr>\n",
       "    <tr>\n",
       "      <th>2020-03-06</th>\n",
       "      <td>46.000000</td>\n",
       "      <td>47.133331</td>\n",
       "      <td>45.618000</td>\n",
       "      <td>46.898666</td>\n",
       "      <td>46.898666</td>\n",
       "      <td>189943500</td>\n",
       "      <td>NaN</td>\n",
       "    </tr>\n",
       "    <tr>\n",
       "      <th>2020-03-09</th>\n",
       "      <td>40.359333</td>\n",
       "      <td>44.200001</td>\n",
       "      <td>40.333332</td>\n",
       "      <td>40.533333</td>\n",
       "      <td>40.533333</td>\n",
       "      <td>256105500</td>\n",
       "      <td>NaN</td>\n",
       "    </tr>\n",
       "    <tr>\n",
       "      <th>2020-03-10</th>\n",
       "      <td>43.962002</td>\n",
       "      <td>44.533333</td>\n",
       "      <td>40.533333</td>\n",
       "      <td>43.021999</td>\n",
       "      <td>43.021999</td>\n",
       "      <td>233916000</td>\n",
       "      <td>NaN</td>\n",
       "    </tr>\n",
       "    <tr>\n",
       "      <th>2020-03-11</th>\n",
       "      <td>42.680000</td>\n",
       "      <td>43.571999</td>\n",
       "      <td>40.866669</td>\n",
       "      <td>42.282001</td>\n",
       "      <td>42.282001</td>\n",
       "      <td>199837500</td>\n",
       "      <td>NaN</td>\n",
       "    </tr>\n",
       "    <tr>\n",
       "      <th>2020-03-12</th>\n",
       "      <td>38.726002</td>\n",
       "      <td>39.633331</td>\n",
       "      <td>36.416668</td>\n",
       "      <td>37.369999</td>\n",
       "      <td>37.369999</td>\n",
       "      <td>283636500</td>\n",
       "      <td>NaN</td>\n",
       "    </tr>\n",
       "    <tr>\n",
       "      <th>2020-03-13</th>\n",
       "      <td>39.666668</td>\n",
       "      <td>40.504665</td>\n",
       "      <td>33.466667</td>\n",
       "      <td>36.441334</td>\n",
       "      <td>36.441334</td>\n",
       "      <td>339604500</td>\n",
       "      <td>NaN</td>\n",
       "    </tr>\n",
       "    <tr>\n",
       "      <th>2020-03-16</th>\n",
       "      <td>31.299999</td>\n",
       "      <td>32.991333</td>\n",
       "      <td>29.478001</td>\n",
       "      <td>29.671333</td>\n",
       "      <td>29.671333</td>\n",
       "      <td>307342500</td>\n",
       "      <td>NaN</td>\n",
       "    </tr>\n",
       "    <tr>\n",
       "      <th>2020-03-17</th>\n",
       "      <td>29.334000</td>\n",
       "      <td>31.456667</td>\n",
       "      <td>26.400000</td>\n",
       "      <td>28.680000</td>\n",
       "      <td>28.680000</td>\n",
       "      <td>359919000</td>\n",
       "      <td>NaN</td>\n",
       "    </tr>\n",
       "    <tr>\n",
       "      <th>2020-03-18</th>\n",
       "      <td>25.933332</td>\n",
       "      <td>26.990667</td>\n",
       "      <td>23.367332</td>\n",
       "      <td>24.081333</td>\n",
       "      <td>24.081333</td>\n",
       "      <td>356793000</td>\n",
       "      <td>NaN</td>\n",
       "    </tr>\n",
       "    <tr>\n",
       "      <th>2020-03-19</th>\n",
       "      <td>24.980000</td>\n",
       "      <td>30.133333</td>\n",
       "      <td>23.897333</td>\n",
       "      <td>28.509333</td>\n",
       "      <td>28.509333</td>\n",
       "      <td>452932500</td>\n",
       "      <td>NaN</td>\n",
       "    </tr>\n",
       "    <tr>\n",
       "      <th>2020-03-20</th>\n",
       "      <td>29.213333</td>\n",
       "      <td>31.799999</td>\n",
       "      <td>28.386000</td>\n",
       "      <td>28.502001</td>\n",
       "      <td>28.502001</td>\n",
       "      <td>424282500</td>\n",
       "      <td>NaN</td>\n",
       "    </tr>\n",
       "    <tr>\n",
       "      <th>2020-03-23</th>\n",
       "      <td>28.906668</td>\n",
       "      <td>29.466667</td>\n",
       "      <td>27.366667</td>\n",
       "      <td>28.952667</td>\n",
       "      <td>28.952667</td>\n",
       "      <td>246817500</td>\n",
       "      <td>NaN</td>\n",
       "    </tr>\n",
       "    <tr>\n",
       "      <th>2020-03-24</th>\n",
       "      <td>31.820000</td>\n",
       "      <td>34.245998</td>\n",
       "      <td>31.600000</td>\n",
       "      <td>33.666668</td>\n",
       "      <td>33.666668</td>\n",
       "      <td>343428000</td>\n",
       "      <td>NaN</td>\n",
       "    </tr>\n",
       "    <tr>\n",
       "      <th>2020-03-25</th>\n",
       "      <td>36.349998</td>\n",
       "      <td>37.133331</td>\n",
       "      <td>34.074001</td>\n",
       "      <td>35.950001</td>\n",
       "      <td>35.950001</td>\n",
       "      <td>318340500</td>\n",
       "      <td>NaN</td>\n",
       "    </tr>\n",
       "    <tr>\n",
       "      <th>2020-03-26</th>\n",
       "      <td>36.492668</td>\n",
       "      <td>37.333332</td>\n",
       "      <td>34.150002</td>\n",
       "      <td>35.210667</td>\n",
       "      <td>35.210667</td>\n",
       "      <td>260710500</td>\n",
       "      <td>NaN</td>\n",
       "    </tr>\n",
       "    <tr>\n",
       "      <th>2020-03-27</th>\n",
       "      <td>33.666668</td>\n",
       "      <td>35.053333</td>\n",
       "      <td>32.935333</td>\n",
       "      <td>34.290668</td>\n",
       "      <td>34.290668</td>\n",
       "      <td>215661000</td>\n",
       "      <td>NaN</td>\n",
       "    </tr>\n",
       "    <tr>\n",
       "      <th>2020-03-30</th>\n",
       "      <td>34.017334</td>\n",
       "      <td>34.443333</td>\n",
       "      <td>32.748669</td>\n",
       "      <td>33.475334</td>\n",
       "      <td>33.475334</td>\n",
       "      <td>179971500</td>\n",
       "      <td>42.931867</td>\n",
       "    </tr>\n",
       "    <tr>\n",
       "      <th>2020-03-31</th>\n",
       "      <td>33.416668</td>\n",
       "      <td>36.197334</td>\n",
       "      <td>33.133331</td>\n",
       "      <td>34.933334</td>\n",
       "      <td>34.933334</td>\n",
       "      <td>266572500</td>\n",
       "      <td>42.175533</td>\n",
       "    </tr>\n",
       "  </tbody>\n",
       "</table>\n",
       "</div>"
      ],
      "text/plain": [
       "                 Open       High        Low      Close  Adj Close     Volume  \\\n",
       "Date                                                                           \n",
       "2020-02-18  56.106667  57.333332  55.490665  57.226665  57.226665  245725500   \n",
       "2020-02-19  61.566666  62.985332  60.068001  61.161331  61.161331  381345000   \n",
       "2020-02-20  60.796665  60.799999  57.329334  59.960667  59.960667  264523500   \n",
       "2020-02-21  60.465332  60.870667  58.696667  60.066666  60.066666  214722000   \n",
       "2020-02-24  55.933334  57.566666  54.813332  55.585999  55.585999  227883000   \n",
       "2020-02-25  56.599998  57.106667  52.466667  53.327332  53.327332  259357500   \n",
       "2020-02-26  52.166668  54.220669  51.740665  51.919998  51.919998  211282500   \n",
       "2020-02-27  48.666668  49.318001  44.599998  45.266666  45.266666  364158000   \n",
       "2020-02-28  41.980000  46.034668  40.768002  44.532665  44.532665  363343500   \n",
       "2020-03-02  47.417332  49.579334  45.778000  49.574669  49.574669  302925000   \n",
       "2020-03-03  53.666668  53.798668  47.740665  49.700668  49.700668  386760000   \n",
       "2020-03-04  50.930668  51.101334  48.315334  49.966667  49.966667  225735000   \n",
       "2020-03-05  48.251331  49.716667  47.871334  48.302666  48.302666  162790500   \n",
       "2020-03-06  46.000000  47.133331  45.618000  46.898666  46.898666  189943500   \n",
       "2020-03-09  40.359333  44.200001  40.333332  40.533333  40.533333  256105500   \n",
       "2020-03-10  43.962002  44.533333  40.533333  43.021999  43.021999  233916000   \n",
       "2020-03-11  42.680000  43.571999  40.866669  42.282001  42.282001  199837500   \n",
       "2020-03-12  38.726002  39.633331  36.416668  37.369999  37.369999  283636500   \n",
       "2020-03-13  39.666668  40.504665  33.466667  36.441334  36.441334  339604500   \n",
       "2020-03-16  31.299999  32.991333  29.478001  29.671333  29.671333  307342500   \n",
       "2020-03-17  29.334000  31.456667  26.400000  28.680000  28.680000  359919000   \n",
       "2020-03-18  25.933332  26.990667  23.367332  24.081333  24.081333  356793000   \n",
       "2020-03-19  24.980000  30.133333  23.897333  28.509333  28.509333  452932500   \n",
       "2020-03-20  29.213333  31.799999  28.386000  28.502001  28.502001  424282500   \n",
       "2020-03-23  28.906668  29.466667  27.366667  28.952667  28.952667  246817500   \n",
       "2020-03-24  31.820000  34.245998  31.600000  33.666668  33.666668  343428000   \n",
       "2020-03-25  36.349998  37.133331  34.074001  35.950001  35.950001  318340500   \n",
       "2020-03-26  36.492668  37.333332  34.150002  35.210667  35.210667  260710500   \n",
       "2020-03-27  33.666668  35.053333  32.935333  34.290668  34.290668  215661000   \n",
       "2020-03-30  34.017334  34.443333  32.748669  33.475334  33.475334  179971500   \n",
       "2020-03-31  33.416668  36.197334  33.133331  34.933334  34.933334  266572500   \n",
       "\n",
       "            Open: 30 days rolling  \n",
       "Date                               \n",
       "2020-02-18                    NaN  \n",
       "2020-02-19                    NaN  \n",
       "2020-02-20                    NaN  \n",
       "2020-02-21                    NaN  \n",
       "2020-02-24                    NaN  \n",
       "2020-02-25                    NaN  \n",
       "2020-02-26                    NaN  \n",
       "2020-02-27                    NaN  \n",
       "2020-02-28                    NaN  \n",
       "2020-03-02                    NaN  \n",
       "2020-03-03                    NaN  \n",
       "2020-03-04                    NaN  \n",
       "2020-03-05                    NaN  \n",
       "2020-03-06                    NaN  \n",
       "2020-03-09                    NaN  \n",
       "2020-03-10                    NaN  \n",
       "2020-03-11                    NaN  \n",
       "2020-03-12                    NaN  \n",
       "2020-03-13                    NaN  \n",
       "2020-03-16                    NaN  \n",
       "2020-03-17                    NaN  \n",
       "2020-03-18                    NaN  \n",
       "2020-03-19                    NaN  \n",
       "2020-03-20                    NaN  \n",
       "2020-03-23                    NaN  \n",
       "2020-03-24                    NaN  \n",
       "2020-03-25                    NaN  \n",
       "2020-03-26                    NaN  \n",
       "2020-03-27                    NaN  \n",
       "2020-03-30              42.931867  \n",
       "2020-03-31              42.175533  "
      ]
     },
     "execution_count": 99,
     "metadata": {},
     "output_type": "execute_result"
    }
   ],
   "source": [
    "data.head(31)"
   ]
  },
  {
   "cell_type": "code",
   "execution_count": 104,
   "id": "a39a6615",
   "metadata": {},
   "outputs": [
    {
     "data": {
      "text/plain": [
       "<Axes: xlabel='Date'>"
      ]
     },
     "execution_count": 104,
     "metadata": {},
     "output_type": "execute_result"
    },
    {
     "data": {
      "image/png": "[encoded data removed]",
      "text/plain": [
       "<Figure size 1200x400 with 1 Axes>"
      ]
     },
     "metadata": {},
     "output_type": "display_data"
    }
   ],
   "source": [
    "data[['Open','Open: 30 days rolling']].plot(figsize =(12,4))"
   ]
  },
  {
   "cell_type": "code",
   "execution_count": null,
   "id": "4319e7e4",
   "metadata": {},
   "outputs": [],
   "source": []
  },
  {
   "cell_type": "code",
   "execution_count": null,
   "id": "70eadd49",
   "metadata": {},
   "outputs": [],
   "source": []
  }
 ],
 "metadata": {
  "kernelspec": {
   "display_name": "Python 3 (ipykernel)",
   "language": "python",
   "name": "python3"
  },
  "language_info": {
   "codemirror_mode": {
    "name": "ipython",
    "version": 3
   },
   "file_extension": ".py",
   "mimetype": "text/x-python",
   "name": "python",
   "nbconvert_exporter": "python",
   "pygments_lexer": "ipython3",
   "version": "3.11.3"
  }
 },
 "nbformat": 4,
 "nbformat_minor": 5
}
